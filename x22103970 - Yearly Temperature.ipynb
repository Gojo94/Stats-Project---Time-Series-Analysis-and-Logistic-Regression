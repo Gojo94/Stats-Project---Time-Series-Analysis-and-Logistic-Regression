{
 "cells": [
  {
   "cell_type": "markdown",
   "id": "c3e1051d",
   "metadata": {},
   "source": [
    "## Reading the data"
   ]
  },
  {
   "cell_type": "code",
   "execution_count": 1,
   "id": "85bc1da6",
   "metadata": {},
   "outputs": [],
   "source": [
    "yearD <- read.csv('nity18442004.csv')"
   ]
  },
  {
   "cell_type": "code",
   "execution_count": 2,
   "id": "005070cb",
   "metadata": {
    "scrolled": true
   },
   "outputs": [
    {
     "data": {
      "text/html": [
       "<table class=\"dataframe\">\n",
       "<caption>A data.frame: 6 × 1</caption>\n",
       "<thead>\n",
       "\t<tr><th></th><th scope=col>x</th></tr>\n",
       "\t<tr><th></th><th scope=col>&lt;dbl&gt;</th></tr>\n",
       "</thead>\n",
       "<tbody>\n",
       "\t<tr><th scope=row>1</th><td>8.5</td></tr>\n",
       "\t<tr><th scope=row>2</th><td>8.3</td></tr>\n",
       "\t<tr><th scope=row>3</th><td>9.7</td></tr>\n",
       "\t<tr><th scope=row>4</th><td>8.9</td></tr>\n",
       "\t<tr><th scope=row>5</th><td>8.5</td></tr>\n",
       "\t<tr><th scope=row>6</th><td>8.7</td></tr>\n",
       "</tbody>\n",
       "</table>\n"
      ],
      "text/latex": [
       "A data.frame: 6 × 1\n",
       "\\begin{tabular}{r|l}\n",
       "  & x\\\\\n",
       "  & <dbl>\\\\\n",
       "\\hline\n",
       "\t1 & 8.5\\\\\n",
       "\t2 & 8.3\\\\\n",
       "\t3 & 9.7\\\\\n",
       "\t4 & 8.9\\\\\n",
       "\t5 & 8.5\\\\\n",
       "\t6 & 8.7\\\\\n",
       "\\end{tabular}\n"
      ],
      "text/markdown": [
       "\n",
       "A data.frame: 6 × 1\n",
       "\n",
       "| <!--/--> | x &lt;dbl&gt; |\n",
       "|---|---|\n",
       "| 1 | 8.5 |\n",
       "| 2 | 8.3 |\n",
       "| 3 | 9.7 |\n",
       "| 4 | 8.9 |\n",
       "| 5 | 8.5 |\n",
       "| 6 | 8.7 |\n",
       "\n"
      ],
      "text/plain": [
       "  x  \n",
       "1 8.5\n",
       "2 8.3\n",
       "3 9.7\n",
       "4 8.9\n",
       "5 8.5\n",
       "6 8.7"
      ]
     },
     "metadata": {},
     "output_type": "display_data"
    }
   ],
   "source": [
    "head(yearD)"
   ]
  },
  {
   "cell_type": "markdown",
   "id": "d57f0e2e",
   "metadata": {},
   "source": [
    "### Vital Signs"
   ]
  },
  {
   "cell_type": "code",
   "execution_count": 6,
   "id": "26ca7a4d",
   "metadata": {},
   "outputs": [],
   "source": [
    "#Creating the time series\n",
    "yr <- ts(yearD$x, start=c(1844,1), frequency=1)"
   ]
  },
  {
   "cell_type": "code",
   "execution_count": 7,
   "id": "99b4fc69",
   "metadata": {
    "scrolled": true
   },
   "outputs": [
    {
     "data": {
      "text/html": [
       "A Time Series:<br><style>\n",
       ".list-inline {list-style: none; margin:0; padding: 0}\n",
       ".list-inline>li {display: inline-block}\n",
       ".list-inline>li:not(:last-child)::after {content: \"\\00b7\"; padding: 0 .5ex}\n",
       "</style>\n",
       "<ol class=list-inline><li>8.5</li><li>8.3</li><li>9.7</li><li>8.9</li><li>8.5</li><li>8.7</li><li>9</li><li>8.8</li><li>8.9</li><li>8</li><li>8.7</li><li>8</li><li>8.7</li><li>9.5</li><li>8.8</li><li>9</li><li>7.3</li><li>8.6</li><li>8</li><li>8.5</li><li>8</li><li>8.8</li><li>8.3</li><li>8.2</li><li>9.1</li><li>8.6</li><li>8.3</li><li>8.6</li><li>8.2</li><li>7.9</li><li>8.3</li><li>8.4</li><li>8.2</li><li>7.9</li><li>8.1</li><li>6.7</li><li>8.2</li><li>7.4</li><li>8.2</li><li>7.7</li><li>8.3</li><li>7.5</li><li>7.5</li><li>7.8</li><li>7.6</li><li>8.3</li><li>8.2</li><li>7.9</li><li>7.2</li><li>8.8</li><li>8.1</li><li>7.5</li><li>8.4</li><li>8.3</li><li>8.9</li><li>8.8</li><li>8.4</li><li>8.2</li><li>8</li><li>8.2</li><li>8.2</li><li>8.4</li><li>8.4</li><li>8</li><li>8.8</li><li>7.8</li><li>8.3</li><li>8.7</li><li>8.1</li><li>8.5</li><li>8.7</li><li>7.9</li><li>8.4</li><li>7.9</li><li>8.6</li><li>7.8</li><li>8.7</li><li>9.5</li><li>7.8</li><li>8.2</li><li>8.3</li><li>8.1</li><li>8.7</li><li>8.3</li><li>8.5</li><li>8.2</li><li>8.2</li><li>8.3</li><li>8.6</li><li>9</li><li>8.9</li><li>8.6</li><li>8.4</li><li>8.5</li><li>9</li><li>8.7</li><li>8.5</li><li>8.5</li><li>8.5</li><li>9.2</li><li>8.9</li><li>9.6</li><li>8.5</li><li>8.4</li><li>9</li><li>9.6</li><li>8.4</li><li>8.2</li><li>8.1</li><li>9.1</li><li>8.4</li><li>8.8</li><li>8.6</li><li>9.1</li><li>8.7</li><li>9.5</li><li>8.7</li><li>8.9</li><li>8</li><li>7.8</li><li>8.8</li><li>8.1</li><li>8.6</li><li>8.7</li><li>8.6</li><li>8.2</li><li>8.6</li><li>9</li><li>8</li><li>8.6</li><li>8.2</li><li>9</li><li>8.6</li><li>8.2</li><li>8.5</li><li>7.6</li><li>8.4</li><li>8.4</li><li>8.7</li><li>9</li><li>8.6</li><li>8</li><li>7.8</li><li>8.3</li><li>8.9</li><li>9.3</li><li>9.2</li><li>8.7</li><li>8.7</li><li>8.5</li><li>8.7</li><li>9.5</li><li>8.5</li><li>9.6</li><li>9.4</li><li>9.5</li><li>9.2</li><li>8.8</li><li>9.5</li><li>9.3</li><li>9.5</li></ol>\n"
      ],
      "text/latex": [
       "A Time Series:\\\\\\begin{enumerate*}\n",
       "\\item 8.5\n",
       "\\item 8.3\n",
       "\\item 9.7\n",
       "\\item 8.9\n",
       "\\item 8.5\n",
       "\\item 8.7\n",
       "\\item 9\n",
       "\\item 8.8\n",
       "\\item 8.9\n",
       "\\item 8\n",
       "\\item 8.7\n",
       "\\item 8\n",
       "\\item 8.7\n",
       "\\item 9.5\n",
       "\\item 8.8\n",
       "\\item 9\n",
       "\\item 7.3\n",
       "\\item 8.6\n",
       "\\item 8\n",
       "\\item 8.5\n",
       "\\item 8\n",
       "\\item 8.8\n",
       "\\item 8.3\n",
       "\\item 8.2\n",
       "\\item 9.1\n",
       "\\item 8.6\n",
       "\\item 8.3\n",
       "\\item 8.6\n",
       "\\item 8.2\n",
       "\\item 7.9\n",
       "\\item 8.3\n",
       "\\item 8.4\n",
       "\\item 8.2\n",
       "\\item 7.9\n",
       "\\item 8.1\n",
       "\\item 6.7\n",
       "\\item 8.2\n",
       "\\item 7.4\n",
       "\\item 8.2\n",
       "\\item 7.7\n",
       "\\item 8.3\n",
       "\\item 7.5\n",
       "\\item 7.5\n",
       "\\item 7.8\n",
       "\\item 7.6\n",
       "\\item 8.3\n",
       "\\item 8.2\n",
       "\\item 7.9\n",
       "\\item 7.2\n",
       "\\item 8.8\n",
       "\\item 8.1\n",
       "\\item 7.5\n",
       "\\item 8.4\n",
       "\\item 8.3\n",
       "\\item 8.9\n",
       "\\item 8.8\n",
       "\\item 8.4\n",
       "\\item 8.2\n",
       "\\item 8\n",
       "\\item 8.2\n",
       "\\item 8.2\n",
       "\\item 8.4\n",
       "\\item 8.4\n",
       "\\item 8\n",
       "\\item 8.8\n",
       "\\item 7.8\n",
       "\\item 8.3\n",
       "\\item 8.7\n",
       "\\item 8.1\n",
       "\\item 8.5\n",
       "\\item 8.7\n",
       "\\item 7.9\n",
       "\\item 8.4\n",
       "\\item 7.9\n",
       "\\item 8.6\n",
       "\\item 7.8\n",
       "\\item 8.7\n",
       "\\item 9.5\n",
       "\\item 7.8\n",
       "\\item 8.2\n",
       "\\item 8.3\n",
       "\\item 8.1\n",
       "\\item 8.7\n",
       "\\item 8.3\n",
       "\\item 8.5\n",
       "\\item 8.2\n",
       "\\item 8.2\n",
       "\\item 8.3\n",
       "\\item 8.6\n",
       "\\item 9\n",
       "\\item 8.9\n",
       "\\item 8.6\n",
       "\\item 8.4\n",
       "\\item 8.5\n",
       "\\item 9\n",
       "\\item 8.7\n",
       "\\item 8.5\n",
       "\\item 8.5\n",
       "\\item 8.5\n",
       "\\item 9.2\n",
       "\\item 8.9\n",
       "\\item 9.6\n",
       "\\item 8.5\n",
       "\\item 8.4\n",
       "\\item 9\n",
       "\\item 9.6\n",
       "\\item 8.4\n",
       "\\item 8.2\n",
       "\\item 8.1\n",
       "\\item 9.1\n",
       "\\item 8.4\n",
       "\\item 8.8\n",
       "\\item 8.6\n",
       "\\item 9.1\n",
       "\\item 8.7\n",
       "\\item 9.5\n",
       "\\item 8.7\n",
       "\\item 8.9\n",
       "\\item 8\n",
       "\\item 7.8\n",
       "\\item 8.8\n",
       "\\item 8.1\n",
       "\\item 8.6\n",
       "\\item 8.7\n",
       "\\item 8.6\n",
       "\\item 8.2\n",
       "\\item 8.6\n",
       "\\item 9\n",
       "\\item 8\n",
       "\\item 8.6\n",
       "\\item 8.2\n",
       "\\item 9\n",
       "\\item 8.6\n",
       "\\item 8.2\n",
       "\\item 8.5\n",
       "\\item 7.6\n",
       "\\item 8.4\n",
       "\\item 8.4\n",
       "\\item 8.7\n",
       "\\item 9\n",
       "\\item 8.6\n",
       "\\item 8\n",
       "\\item 7.8\n",
       "\\item 8.3\n",
       "\\item 8.9\n",
       "\\item 9.3\n",
       "\\item 9.2\n",
       "\\item 8.7\n",
       "\\item 8.7\n",
       "\\item 8.5\n",
       "\\item 8.7\n",
       "\\item 9.5\n",
       "\\item 8.5\n",
       "\\item 9.6\n",
       "\\item 9.4\n",
       "\\item 9.5\n",
       "\\item 9.2\n",
       "\\item 8.8\n",
       "\\item 9.5\n",
       "\\item 9.3\n",
       "\\item 9.5\n",
       "\\end{enumerate*}\n"
      ],
      "text/markdown": [
       "A Time Series:  \n",
       "1. 8.5\n",
       "2. 8.3\n",
       "3. 9.7\n",
       "4. 8.9\n",
       "5. 8.5\n",
       "6. 8.7\n",
       "7. 9\n",
       "8. 8.8\n",
       "9. 8.9\n",
       "10. 8\n",
       "11. 8.7\n",
       "12. 8\n",
       "13. 8.7\n",
       "14. 9.5\n",
       "15. 8.8\n",
       "16. 9\n",
       "17. 7.3\n",
       "18. 8.6\n",
       "19. 8\n",
       "20. 8.5\n",
       "21. 8\n",
       "22. 8.8\n",
       "23. 8.3\n",
       "24. 8.2\n",
       "25. 9.1\n",
       "26. 8.6\n",
       "27. 8.3\n",
       "28. 8.6\n",
       "29. 8.2\n",
       "30. 7.9\n",
       "31. 8.3\n",
       "32. 8.4\n",
       "33. 8.2\n",
       "34. 7.9\n",
       "35. 8.1\n",
       "36. 6.7\n",
       "37. 8.2\n",
       "38. 7.4\n",
       "39. 8.2\n",
       "40. 7.7\n",
       "41. 8.3\n",
       "42. 7.5\n",
       "43. 7.5\n",
       "44. 7.8\n",
       "45. 7.6\n",
       "46. 8.3\n",
       "47. 8.2\n",
       "48. 7.9\n",
       "49. 7.2\n",
       "50. 8.8\n",
       "51. 8.1\n",
       "52. 7.5\n",
       "53. 8.4\n",
       "54. 8.3\n",
       "55. 8.9\n",
       "56. 8.8\n",
       "57. 8.4\n",
       "58. 8.2\n",
       "59. 8\n",
       "60. 8.2\n",
       "61. 8.2\n",
       "62. 8.4\n",
       "63. 8.4\n",
       "64. 8\n",
       "65. 8.8\n",
       "66. 7.8\n",
       "67. 8.3\n",
       "68. 8.7\n",
       "69. 8.1\n",
       "70. 8.5\n",
       "71. 8.7\n",
       "72. 7.9\n",
       "73. 8.4\n",
       "74. 7.9\n",
       "75. 8.6\n",
       "76. 7.8\n",
       "77. 8.7\n",
       "78. 9.5\n",
       "79. 7.8\n",
       "80. 8.2\n",
       "81. 8.3\n",
       "82. 8.1\n",
       "83. 8.7\n",
       "84. 8.3\n",
       "85. 8.5\n",
       "86. 8.2\n",
       "87. 8.2\n",
       "88. 8.3\n",
       "89. 8.6\n",
       "90. 9\n",
       "91. 8.9\n",
       "92. 8.6\n",
       "93. 8.4\n",
       "94. 8.5\n",
       "95. 9\n",
       "96. 8.7\n",
       "97. 8.5\n",
       "98. 8.5\n",
       "99. 8.5\n",
       "100. 9.2\n",
       "101. 8.9\n",
       "102. 9.6\n",
       "103. 8.5\n",
       "104. 8.4\n",
       "105. 9\n",
       "106. 9.6\n",
       "107. 8.4\n",
       "108. 8.2\n",
       "109. 8.1\n",
       "110. 9.1\n",
       "111. 8.4\n",
       "112. 8.8\n",
       "113. 8.6\n",
       "114. 9.1\n",
       "115. 8.7\n",
       "116. 9.5\n",
       "117. 8.7\n",
       "118. 8.9\n",
       "119. 8\n",
       "120. 7.8\n",
       "121. 8.8\n",
       "122. 8.1\n",
       "123. 8.6\n",
       "124. 8.7\n",
       "125. 8.6\n",
       "126. 8.2\n",
       "127. 8.6\n",
       "128. 9\n",
       "129. 8\n",
       "130. 8.6\n",
       "131. 8.2\n",
       "132. 9\n",
       "133. 8.6\n",
       "134. 8.2\n",
       "135. 8.5\n",
       "136. 7.6\n",
       "137. 8.4\n",
       "138. 8.4\n",
       "139. 8.7\n",
       "140. 9\n",
       "141. 8.6\n",
       "142. 8\n",
       "143. 7.8\n",
       "144. 8.3\n",
       "145. 8.9\n",
       "146. 9.3\n",
       "147. 9.2\n",
       "148. 8.7\n",
       "149. 8.7\n",
       "150. 8.5\n",
       "151. 8.7\n",
       "152. 9.5\n",
       "153. 8.5\n",
       "154. 9.6\n",
       "155. 9.4\n",
       "156. 9.5\n",
       "157. 9.2\n",
       "158. 8.8\n",
       "159. 9.5\n",
       "160. 9.3\n",
       "161. 9.5\n",
       "\n",
       "\n"
      ],
      "text/plain": [
       "A Time Series:\n",
       "  [1] 8.5 8.3 9.7 8.9 8.5 8.7 9.0 8.8 8.9 8.0 8.7 8.0 8.7 9.5 8.8 9.0 7.3 8.6\n",
       " [19] 8.0 8.5 8.0 8.8 8.3 8.2 9.1 8.6 8.3 8.6 8.2 7.9 8.3 8.4 8.2 7.9 8.1 6.7\n",
       " [37] 8.2 7.4 8.2 7.7 8.3 7.5 7.5 7.8 7.6 8.3 8.2 7.9 7.2 8.8 8.1 7.5 8.4 8.3\n",
       " [55] 8.9 8.8 8.4 8.2 8.0 8.2 8.2 8.4 8.4 8.0 8.8 7.8 8.3 8.7 8.1 8.5 8.7 7.9\n",
       " [73] 8.4 7.9 8.6 7.8 8.7 9.5 7.8 8.2 8.3 8.1 8.7 8.3 8.5 8.2 8.2 8.3 8.6 9.0\n",
       " [91] 8.9 8.6 8.4 8.5 9.0 8.7 8.5 8.5 8.5 9.2 8.9 9.6 8.5 8.4 9.0 9.6 8.4 8.2\n",
       "[109] 8.1 9.1 8.4 8.8 8.6 9.1 8.7 9.5 8.7 8.9 8.0 7.8 8.8 8.1 8.6 8.7 8.6 8.2\n",
       "[127] 8.6 9.0 8.0 8.6 8.2 9.0 8.6 8.2 8.5 7.6 8.4 8.4 8.7 9.0 8.6 8.0 7.8 8.3\n",
       "[145] 8.9 9.3 9.2 8.7 8.7 8.5 8.7 9.5 8.5 9.6 9.4 9.5 9.2 8.8 9.5 9.3 9.5"
      ]
     },
     "metadata": {},
     "output_type": "display_data"
    }
   ],
   "source": [
    "yr"
   ]
  },
  {
   "cell_type": "code",
   "execution_count": 8,
   "id": "e2266fc8",
   "metadata": {},
   "outputs": [
    {
     "data": {
      "text/html": [
       "'ts'"
      ],
      "text/latex": [
       "'ts'"
      ],
      "text/markdown": [
       "'ts'"
      ],
      "text/plain": [
       "[1] \"ts\""
      ]
     },
     "metadata": {},
     "output_type": "display_data"
    }
   ],
   "source": [
    "class(yr)"
   ]
  },
  {
   "cell_type": "code",
   "execution_count": 9,
   "id": "d847f864",
   "metadata": {},
   "outputs": [
    {
     "data": {
      "text/html": [
       "'double'"
      ],
      "text/latex": [
       "'double'"
      ],
      "text/markdown": [
       "'double'"
      ],
      "text/plain": [
       "[1] \"double\""
      ]
     },
     "metadata": {},
     "output_type": "display_data"
    }
   ],
   "source": [
    "typeof(yr)"
   ]
  },
  {
   "cell_type": "code",
   "execution_count": 10,
   "id": "d6d1e139",
   "metadata": {
    "scrolled": true
   },
   "outputs": [
    {
     "data": {
      "text/html": [
       "A Time Series:<br><style>\n",
       ".list-inline {list-style: none; margin:0; padding: 0}\n",
       ".list-inline>li {display: inline-block}\n",
       ".list-inline>li:not(:last-child)::after {content: \"\\00b7\"; padding: 0 .5ex}\n",
       "</style>\n",
       "<ol class=list-inline><li>1844</li><li>1845</li><li>1846</li><li>1847</li><li>1848</li><li>1849</li><li>1850</li><li>1851</li><li>1852</li><li>1853</li><li>1854</li><li>1855</li><li>1856</li><li>1857</li><li>1858</li><li>1859</li><li>1860</li><li>1861</li><li>1862</li><li>1863</li><li>1864</li><li>1865</li><li>1866</li><li>1867</li><li>1868</li><li>1869</li><li>1870</li><li>1871</li><li>1872</li><li>1873</li><li>1874</li><li>1875</li><li>1876</li><li>1877</li><li>1878</li><li>1879</li><li>1880</li><li>1881</li><li>1882</li><li>1883</li><li>1884</li><li>1885</li><li>1886</li><li>1887</li><li>1888</li><li>1889</li><li>1890</li><li>1891</li><li>1892</li><li>1893</li><li>1894</li><li>1895</li><li>1896</li><li>1897</li><li>1898</li><li>1899</li><li>1900</li><li>1901</li><li>1902</li><li>1903</li><li>1904</li><li>1905</li><li>1906</li><li>1907</li><li>1908</li><li>1909</li><li>1910</li><li>1911</li><li>1912</li><li>1913</li><li>1914</li><li>1915</li><li>1916</li><li>1917</li><li>1918</li><li>1919</li><li>1920</li><li>1921</li><li>1922</li><li>1923</li><li>1924</li><li>1925</li><li>1926</li><li>1927</li><li>1928</li><li>1929</li><li>1930</li><li>1931</li><li>1932</li><li>1933</li><li>1934</li><li>1935</li><li>1936</li><li>1937</li><li>1938</li><li>1939</li><li>1940</li><li>1941</li><li>1942</li><li>1943</li><li>1944</li><li>1945</li><li>1946</li><li>1947</li><li>1948</li><li>1949</li><li>1950</li><li>1951</li><li>1952</li><li>1953</li><li>1954</li><li>1955</li><li>1956</li><li>1957</li><li>1958</li><li>1959</li><li>1960</li><li>1961</li><li>1962</li><li>1963</li><li>1964</li><li>1965</li><li>1966</li><li>1967</li><li>1968</li><li>1969</li><li>1970</li><li>1971</li><li>1972</li><li>1973</li><li>1974</li><li>1975</li><li>1976</li><li>1977</li><li>1978</li><li>1979</li><li>1980</li><li>1981</li><li>1982</li><li>1983</li><li>1984</li><li>1985</li><li>1986</li><li>1987</li><li>1988</li><li>1989</li><li>1990</li><li>1991</li><li>1992</li><li>1993</li><li>1994</li><li>1995</li><li>1996</li><li>1997</li><li>1998</li><li>1999</li><li>2000</li><li>2001</li><li>2002</li><li>2003</li><li>2004</li></ol>\n"
      ],
      "text/latex": [
       "A Time Series:\\\\\\begin{enumerate*}\n",
       "\\item 1844\n",
       "\\item 1845\n",
       "\\item 1846\n",
       "\\item 1847\n",
       "\\item 1848\n",
       "\\item 1849\n",
       "\\item 1850\n",
       "\\item 1851\n",
       "\\item 1852\n",
       "\\item 1853\n",
       "\\item 1854\n",
       "\\item 1855\n",
       "\\item 1856\n",
       "\\item 1857\n",
       "\\item 1858\n",
       "\\item 1859\n",
       "\\item 1860\n",
       "\\item 1861\n",
       "\\item 1862\n",
       "\\item 1863\n",
       "\\item 1864\n",
       "\\item 1865\n",
       "\\item 1866\n",
       "\\item 1867\n",
       "\\item 1868\n",
       "\\item 1869\n",
       "\\item 1870\n",
       "\\item 1871\n",
       "\\item 1872\n",
       "\\item 1873\n",
       "\\item 1874\n",
       "\\item 1875\n",
       "\\item 1876\n",
       "\\item 1877\n",
       "\\item 1878\n",
       "\\item 1879\n",
       "\\item 1880\n",
       "\\item 1881\n",
       "\\item 1882\n",
       "\\item 1883\n",
       "\\item 1884\n",
       "\\item 1885\n",
       "\\item 1886\n",
       "\\item 1887\n",
       "\\item 1888\n",
       "\\item 1889\n",
       "\\item 1890\n",
       "\\item 1891\n",
       "\\item 1892\n",
       "\\item 1893\n",
       "\\item 1894\n",
       "\\item 1895\n",
       "\\item 1896\n",
       "\\item 1897\n",
       "\\item 1898\n",
       "\\item 1899\n",
       "\\item 1900\n",
       "\\item 1901\n",
       "\\item 1902\n",
       "\\item 1903\n",
       "\\item 1904\n",
       "\\item 1905\n",
       "\\item 1906\n",
       "\\item 1907\n",
       "\\item 1908\n",
       "\\item 1909\n",
       "\\item 1910\n",
       "\\item 1911\n",
       "\\item 1912\n",
       "\\item 1913\n",
       "\\item 1914\n",
       "\\item 1915\n",
       "\\item 1916\n",
       "\\item 1917\n",
       "\\item 1918\n",
       "\\item 1919\n",
       "\\item 1920\n",
       "\\item 1921\n",
       "\\item 1922\n",
       "\\item 1923\n",
       "\\item 1924\n",
       "\\item 1925\n",
       "\\item 1926\n",
       "\\item 1927\n",
       "\\item 1928\n",
       "\\item 1929\n",
       "\\item 1930\n",
       "\\item 1931\n",
       "\\item 1932\n",
       "\\item 1933\n",
       "\\item 1934\n",
       "\\item 1935\n",
       "\\item 1936\n",
       "\\item 1937\n",
       "\\item 1938\n",
       "\\item 1939\n",
       "\\item 1940\n",
       "\\item 1941\n",
       "\\item 1942\n",
       "\\item 1943\n",
       "\\item 1944\n",
       "\\item 1945\n",
       "\\item 1946\n",
       "\\item 1947\n",
       "\\item 1948\n",
       "\\item 1949\n",
       "\\item 1950\n",
       "\\item 1951\n",
       "\\item 1952\n",
       "\\item 1953\n",
       "\\item 1954\n",
       "\\item 1955\n",
       "\\item 1956\n",
       "\\item 1957\n",
       "\\item 1958\n",
       "\\item 1959\n",
       "\\item 1960\n",
       "\\item 1961\n",
       "\\item 1962\n",
       "\\item 1963\n",
       "\\item 1964\n",
       "\\item 1965\n",
       "\\item 1966\n",
       "\\item 1967\n",
       "\\item 1968\n",
       "\\item 1969\n",
       "\\item 1970\n",
       "\\item 1971\n",
       "\\item 1972\n",
       "\\item 1973\n",
       "\\item 1974\n",
       "\\item 1975\n",
       "\\item 1976\n",
       "\\item 1977\n",
       "\\item 1978\n",
       "\\item 1979\n",
       "\\item 1980\n",
       "\\item 1981\n",
       "\\item 1982\n",
       "\\item 1983\n",
       "\\item 1984\n",
       "\\item 1985\n",
       "\\item 1986\n",
       "\\item 1987\n",
       "\\item 1988\n",
       "\\item 1989\n",
       "\\item 1990\n",
       "\\item 1991\n",
       "\\item 1992\n",
       "\\item 1993\n",
       "\\item 1994\n",
       "\\item 1995\n",
       "\\item 1996\n",
       "\\item 1997\n",
       "\\item 1998\n",
       "\\item 1999\n",
       "\\item 2000\n",
       "\\item 2001\n",
       "\\item 2002\n",
       "\\item 2003\n",
       "\\item 2004\n",
       "\\end{enumerate*}\n"
      ],
      "text/markdown": [
       "A Time Series:  \n",
       "1. 1844\n",
       "2. 1845\n",
       "3. 1846\n",
       "4. 1847\n",
       "5. 1848\n",
       "6. 1849\n",
       "7. 1850\n",
       "8. 1851\n",
       "9. 1852\n",
       "10. 1853\n",
       "11. 1854\n",
       "12. 1855\n",
       "13. 1856\n",
       "14. 1857\n",
       "15. 1858\n",
       "16. 1859\n",
       "17. 1860\n",
       "18. 1861\n",
       "19. 1862\n",
       "20. 1863\n",
       "21. 1864\n",
       "22. 1865\n",
       "23. 1866\n",
       "24. 1867\n",
       "25. 1868\n",
       "26. 1869\n",
       "27. 1870\n",
       "28. 1871\n",
       "29. 1872\n",
       "30. 1873\n",
       "31. 1874\n",
       "32. 1875\n",
       "33. 1876\n",
       "34. 1877\n",
       "35. 1878\n",
       "36. 1879\n",
       "37. 1880\n",
       "38. 1881\n",
       "39. 1882\n",
       "40. 1883\n",
       "41. 1884\n",
       "42. 1885\n",
       "43. 1886\n",
       "44. 1887\n",
       "45. 1888\n",
       "46. 1889\n",
       "47. 1890\n",
       "48. 1891\n",
       "49. 1892\n",
       "50. 1893\n",
       "51. 1894\n",
       "52. 1895\n",
       "53. 1896\n",
       "54. 1897\n",
       "55. 1898\n",
       "56. 1899\n",
       "57. 1900\n",
       "58. 1901\n",
       "59. 1902\n",
       "60. 1903\n",
       "61. 1904\n",
       "62. 1905\n",
       "63. 1906\n",
       "64. 1907\n",
       "65. 1908\n",
       "66. 1909\n",
       "67. 1910\n",
       "68. 1911\n",
       "69. 1912\n",
       "70. 1913\n",
       "71. 1914\n",
       "72. 1915\n",
       "73. 1916\n",
       "74. 1917\n",
       "75. 1918\n",
       "76. 1919\n",
       "77. 1920\n",
       "78. 1921\n",
       "79. 1922\n",
       "80. 1923\n",
       "81. 1924\n",
       "82. 1925\n",
       "83. 1926\n",
       "84. 1927\n",
       "85. 1928\n",
       "86. 1929\n",
       "87. 1930\n",
       "88. 1931\n",
       "89. 1932\n",
       "90. 1933\n",
       "91. 1934\n",
       "92. 1935\n",
       "93. 1936\n",
       "94. 1937\n",
       "95. 1938\n",
       "96. 1939\n",
       "97. 1940\n",
       "98. 1941\n",
       "99. 1942\n",
       "100. 1943\n",
       "101. 1944\n",
       "102. 1945\n",
       "103. 1946\n",
       "104. 1947\n",
       "105. 1948\n",
       "106. 1949\n",
       "107. 1950\n",
       "108. 1951\n",
       "109. 1952\n",
       "110. 1953\n",
       "111. 1954\n",
       "112. 1955\n",
       "113. 1956\n",
       "114. 1957\n",
       "115. 1958\n",
       "116. 1959\n",
       "117. 1960\n",
       "118. 1961\n",
       "119. 1962\n",
       "120. 1963\n",
       "121. 1964\n",
       "122. 1965\n",
       "123. 1966\n",
       "124. 1967\n",
       "125. 1968\n",
       "126. 1969\n",
       "127. 1970\n",
       "128. 1971\n",
       "129. 1972\n",
       "130. 1973\n",
       "131. 1974\n",
       "132. 1975\n",
       "133. 1976\n",
       "134. 1977\n",
       "135. 1978\n",
       "136. 1979\n",
       "137. 1980\n",
       "138. 1981\n",
       "139. 1982\n",
       "140. 1983\n",
       "141. 1984\n",
       "142. 1985\n",
       "143. 1986\n",
       "144. 1987\n",
       "145. 1988\n",
       "146. 1989\n",
       "147. 1990\n",
       "148. 1991\n",
       "149. 1992\n",
       "150. 1993\n",
       "151. 1994\n",
       "152. 1995\n",
       "153. 1996\n",
       "154. 1997\n",
       "155. 1998\n",
       "156. 1999\n",
       "157. 2000\n",
       "158. 2001\n",
       "159. 2002\n",
       "160. 2003\n",
       "161. 2004\n",
       "\n",
       "\n"
      ],
      "text/plain": [
       "A Time Series:\n",
       "  [1] 1844 1845 1846 1847 1848 1849 1850 1851 1852 1853 1854 1855 1856 1857 1858\n",
       " [16] 1859 1860 1861 1862 1863 1864 1865 1866 1867 1868 1869 1870 1871 1872 1873\n",
       " [31] 1874 1875 1876 1877 1878 1879 1880 1881 1882 1883 1884 1885 1886 1887 1888\n",
       " [46] 1889 1890 1891 1892 1893 1894 1895 1896 1897 1898 1899 1900 1901 1902 1903\n",
       " [61] 1904 1905 1906 1907 1908 1909 1910 1911 1912 1913 1914 1915 1916 1917 1918\n",
       " [76] 1919 1920 1921 1922 1923 1924 1925 1926 1927 1928 1929 1930 1931 1932 1933\n",
       " [91] 1934 1935 1936 1937 1938 1939 1940 1941 1942 1943 1944 1945 1946 1947 1948\n",
       "[106] 1949 1950 1951 1952 1953 1954 1955 1956 1957 1958 1959 1960 1961 1962 1963\n",
       "[121] 1964 1965 1966 1967 1968 1969 1970 1971 1972 1973 1974 1975 1976 1977 1978\n",
       "[136] 1979 1980 1981 1982 1983 1984 1985 1986 1987 1988 1989 1990 1991 1992 1993\n",
       "[151] 1994 1995 1996 1997 1998 1999 2000 2001 2002 2003 2004"
      ]
     },
     "metadata": {},
     "output_type": "display_data"
    }
   ],
   "source": [
    "time(yr)"
   ]
  },
  {
   "cell_type": "code",
   "execution_count": 11,
   "id": "d0f60e0c",
   "metadata": {},
   "outputs": [
    {
     "data": {
      "text/html": [
       "A Time Series:<br><style>\n",
       ".list-inline {list-style: none; margin:0; padding: 0}\n",
       ".list-inline>li {display: inline-block}\n",
       ".list-inline>li:not(:last-child)::after {content: \"\\00b7\"; padding: 0 .5ex}\n",
       "</style>\n",
       "<ol class=list-inline><li>1</li><li>1</li><li>1</li><li>1</li><li>1</li><li>1</li><li>1</li><li>1</li><li>1</li><li>1</li><li>1</li><li>1</li><li>1</li><li>1</li><li>1</li><li>1</li><li>1</li><li>1</li><li>1</li><li>1</li><li>1</li><li>1</li><li>1</li><li>1</li><li>1</li><li>1</li><li>1</li><li>1</li><li>1</li><li>1</li><li>1</li><li>1</li><li>1</li><li>1</li><li>1</li><li>1</li><li>1</li><li>1</li><li>1</li><li>1</li><li>1</li><li>1</li><li>1</li><li>1</li><li>1</li><li>1</li><li>1</li><li>1</li><li>1</li><li>1</li><li>1</li><li>1</li><li>1</li><li>1</li><li>1</li><li>1</li><li>1</li><li>1</li><li>1</li><li>1</li><li>1</li><li>1</li><li>1</li><li>1</li><li>1</li><li>1</li><li>1</li><li>1</li><li>1</li><li>1</li><li>1</li><li>1</li><li>1</li><li>1</li><li>1</li><li>1</li><li>1</li><li>1</li><li>1</li><li>1</li><li>1</li><li>1</li><li>1</li><li>1</li><li>1</li><li>1</li><li>1</li><li>1</li><li>1</li><li>1</li><li>1</li><li>1</li><li>1</li><li>1</li><li>1</li><li>1</li><li>1</li><li>1</li><li>1</li><li>1</li><li>1</li><li>1</li><li>1</li><li>1</li><li>1</li><li>1</li><li>1</li><li>1</li><li>1</li><li>1</li><li>1</li><li>1</li><li>1</li><li>1</li><li>1</li><li>1</li><li>1</li><li>1</li><li>1</li><li>1</li><li>1</li><li>1</li><li>1</li><li>1</li><li>1</li><li>1</li><li>1</li><li>1</li><li>1</li><li>1</li><li>1</li><li>1</li><li>1</li><li>1</li><li>1</li><li>1</li><li>1</li><li>1</li><li>1</li><li>1</li><li>1</li><li>1</li><li>1</li><li>1</li><li>1</li><li>1</li><li>1</li><li>1</li><li>1</li><li>1</li><li>1</li><li>1</li><li>1</li><li>1</li><li>1</li><li>1</li><li>1</li><li>1</li><li>1</li><li>1</li><li>1</li></ol>\n"
      ],
      "text/latex": [
       "A Time Series:\\\\\\begin{enumerate*}\n",
       "\\item 1\n",
       "\\item 1\n",
       "\\item 1\n",
       "\\item 1\n",
       "\\item 1\n",
       "\\item 1\n",
       "\\item 1\n",
       "\\item 1\n",
       "\\item 1\n",
       "\\item 1\n",
       "\\item 1\n",
       "\\item 1\n",
       "\\item 1\n",
       "\\item 1\n",
       "\\item 1\n",
       "\\item 1\n",
       "\\item 1\n",
       "\\item 1\n",
       "\\item 1\n",
       "\\item 1\n",
       "\\item 1\n",
       "\\item 1\n",
       "\\item 1\n",
       "\\item 1\n",
       "\\item 1\n",
       "\\item 1\n",
       "\\item 1\n",
       "\\item 1\n",
       "\\item 1\n",
       "\\item 1\n",
       "\\item 1\n",
       "\\item 1\n",
       "\\item 1\n",
       "\\item 1\n",
       "\\item 1\n",
       "\\item 1\n",
       "\\item 1\n",
       "\\item 1\n",
       "\\item 1\n",
       "\\item 1\n",
       "\\item 1\n",
       "\\item 1\n",
       "\\item 1\n",
       "\\item 1\n",
       "\\item 1\n",
       "\\item 1\n",
       "\\item 1\n",
       "\\item 1\n",
       "\\item 1\n",
       "\\item 1\n",
       "\\item 1\n",
       "\\item 1\n",
       "\\item 1\n",
       "\\item 1\n",
       "\\item 1\n",
       "\\item 1\n",
       "\\item 1\n",
       "\\item 1\n",
       "\\item 1\n",
       "\\item 1\n",
       "\\item 1\n",
       "\\item 1\n",
       "\\item 1\n",
       "\\item 1\n",
       "\\item 1\n",
       "\\item 1\n",
       "\\item 1\n",
       "\\item 1\n",
       "\\item 1\n",
       "\\item 1\n",
       "\\item 1\n",
       "\\item 1\n",
       "\\item 1\n",
       "\\item 1\n",
       "\\item 1\n",
       "\\item 1\n",
       "\\item 1\n",
       "\\item 1\n",
       "\\item 1\n",
       "\\item 1\n",
       "\\item 1\n",
       "\\item 1\n",
       "\\item 1\n",
       "\\item 1\n",
       "\\item 1\n",
       "\\item 1\n",
       "\\item 1\n",
       "\\item 1\n",
       "\\item 1\n",
       "\\item 1\n",
       "\\item 1\n",
       "\\item 1\n",
       "\\item 1\n",
       "\\item 1\n",
       "\\item 1\n",
       "\\item 1\n",
       "\\item 1\n",
       "\\item 1\n",
       "\\item 1\n",
       "\\item 1\n",
       "\\item 1\n",
       "\\item 1\n",
       "\\item 1\n",
       "\\item 1\n",
       "\\item 1\n",
       "\\item 1\n",
       "\\item 1\n",
       "\\item 1\n",
       "\\item 1\n",
       "\\item 1\n",
       "\\item 1\n",
       "\\item 1\n",
       "\\item 1\n",
       "\\item 1\n",
       "\\item 1\n",
       "\\item 1\n",
       "\\item 1\n",
       "\\item 1\n",
       "\\item 1\n",
       "\\item 1\n",
       "\\item 1\n",
       "\\item 1\n",
       "\\item 1\n",
       "\\item 1\n",
       "\\item 1\n",
       "\\item 1\n",
       "\\item 1\n",
       "\\item 1\n",
       "\\item 1\n",
       "\\item 1\n",
       "\\item 1\n",
       "\\item 1\n",
       "\\item 1\n",
       "\\item 1\n",
       "\\item 1\n",
       "\\item 1\n",
       "\\item 1\n",
       "\\item 1\n",
       "\\item 1\n",
       "\\item 1\n",
       "\\item 1\n",
       "\\item 1\n",
       "\\item 1\n",
       "\\item 1\n",
       "\\item 1\n",
       "\\item 1\n",
       "\\item 1\n",
       "\\item 1\n",
       "\\item 1\n",
       "\\item 1\n",
       "\\item 1\n",
       "\\item 1\n",
       "\\item 1\n",
       "\\item 1\n",
       "\\item 1\n",
       "\\item 1\n",
       "\\item 1\n",
       "\\item 1\n",
       "\\item 1\n",
       "\\item 1\n",
       "\\item 1\n",
       "\\end{enumerate*}\n"
      ],
      "text/markdown": [
       "A Time Series:  \n",
       "1. 1\n",
       "2. 1\n",
       "3. 1\n",
       "4. 1\n",
       "5. 1\n",
       "6. 1\n",
       "7. 1\n",
       "8. 1\n",
       "9. 1\n",
       "10. 1\n",
       "11. 1\n",
       "12. 1\n",
       "13. 1\n",
       "14. 1\n",
       "15. 1\n",
       "16. 1\n",
       "17. 1\n",
       "18. 1\n",
       "19. 1\n",
       "20. 1\n",
       "21. 1\n",
       "22. 1\n",
       "23. 1\n",
       "24. 1\n",
       "25. 1\n",
       "26. 1\n",
       "27. 1\n",
       "28. 1\n",
       "29. 1\n",
       "30. 1\n",
       "31. 1\n",
       "32. 1\n",
       "33. 1\n",
       "34. 1\n",
       "35. 1\n",
       "36. 1\n",
       "37. 1\n",
       "38. 1\n",
       "39. 1\n",
       "40. 1\n",
       "41. 1\n",
       "42. 1\n",
       "43. 1\n",
       "44. 1\n",
       "45. 1\n",
       "46. 1\n",
       "47. 1\n",
       "48. 1\n",
       "49. 1\n",
       "50. 1\n",
       "51. 1\n",
       "52. 1\n",
       "53. 1\n",
       "54. 1\n",
       "55. 1\n",
       "56. 1\n",
       "57. 1\n",
       "58. 1\n",
       "59. 1\n",
       "60. 1\n",
       "61. 1\n",
       "62. 1\n",
       "63. 1\n",
       "64. 1\n",
       "65. 1\n",
       "66. 1\n",
       "67. 1\n",
       "68. 1\n",
       "69. 1\n",
       "70. 1\n",
       "71. 1\n",
       "72. 1\n",
       "73. 1\n",
       "74. 1\n",
       "75. 1\n",
       "76. 1\n",
       "77. 1\n",
       "78. 1\n",
       "79. 1\n",
       "80. 1\n",
       "81. 1\n",
       "82. 1\n",
       "83. 1\n",
       "84. 1\n",
       "85. 1\n",
       "86. 1\n",
       "87. 1\n",
       "88. 1\n",
       "89. 1\n",
       "90. 1\n",
       "91. 1\n",
       "92. 1\n",
       "93. 1\n",
       "94. 1\n",
       "95. 1\n",
       "96. 1\n",
       "97. 1\n",
       "98. 1\n",
       "99. 1\n",
       "100. 1\n",
       "101. 1\n",
       "102. 1\n",
       "103. 1\n",
       "104. 1\n",
       "105. 1\n",
       "106. 1\n",
       "107. 1\n",
       "108. 1\n",
       "109. 1\n",
       "110. 1\n",
       "111. 1\n",
       "112. 1\n",
       "113. 1\n",
       "114. 1\n",
       "115. 1\n",
       "116. 1\n",
       "117. 1\n",
       "118. 1\n",
       "119. 1\n",
       "120. 1\n",
       "121. 1\n",
       "122. 1\n",
       "123. 1\n",
       "124. 1\n",
       "125. 1\n",
       "126. 1\n",
       "127. 1\n",
       "128. 1\n",
       "129. 1\n",
       "130. 1\n",
       "131. 1\n",
       "132. 1\n",
       "133. 1\n",
       "134. 1\n",
       "135. 1\n",
       "136. 1\n",
       "137. 1\n",
       "138. 1\n",
       "139. 1\n",
       "140. 1\n",
       "141. 1\n",
       "142. 1\n",
       "143. 1\n",
       "144. 1\n",
       "145. 1\n",
       "146. 1\n",
       "147. 1\n",
       "148. 1\n",
       "149. 1\n",
       "150. 1\n",
       "151. 1\n",
       "152. 1\n",
       "153. 1\n",
       "154. 1\n",
       "155. 1\n",
       "156. 1\n",
       "157. 1\n",
       "158. 1\n",
       "159. 1\n",
       "160. 1\n",
       "161. 1\n",
       "\n",
       "\n"
      ],
      "text/plain": [
       "A Time Series:\n",
       "  [1] 1 1 1 1 1 1 1 1 1 1 1 1 1 1 1 1 1 1 1 1 1 1 1 1 1 1 1 1 1 1 1 1 1 1 1 1 1\n",
       " [38] 1 1 1 1 1 1 1 1 1 1 1 1 1 1 1 1 1 1 1 1 1 1 1 1 1 1 1 1 1 1 1 1 1 1 1 1 1\n",
       " [75] 1 1 1 1 1 1 1 1 1 1 1 1 1 1 1 1 1 1 1 1 1 1 1 1 1 1 1 1 1 1 1 1 1 1 1 1 1\n",
       "[112] 1 1 1 1 1 1 1 1 1 1 1 1 1 1 1 1 1 1 1 1 1 1 1 1 1 1 1 1 1 1 1 1 1 1 1 1 1\n",
       "[149] 1 1 1 1 1 1 1 1 1 1 1 1 1"
      ]
     },
     "metadata": {},
     "output_type": "display_data"
    }
   ],
   "source": [
    "cycle(yr)"
   ]
  },
  {
   "cell_type": "code",
   "execution_count": 12,
   "id": "94700090",
   "metadata": {},
   "outputs": [
    {
     "data": {
      "text/html": [
       "<style>\n",
       ".list-inline {list-style: none; margin:0; padding: 0}\n",
       ".list-inline>li {display: inline-block}\n",
       ".list-inline>li:not(:last-child)::after {content: \"\\00b7\"; padding: 0 .5ex}\n",
       "</style>\n",
       "<ol class=list-inline><li>1844</li><li>1</li></ol>\n"
      ],
      "text/latex": [
       "\\begin{enumerate*}\n",
       "\\item 1844\n",
       "\\item 1\n",
       "\\end{enumerate*}\n"
      ],
      "text/markdown": [
       "1. 1844\n",
       "2. 1\n",
       "\n",
       "\n"
      ],
      "text/plain": [
       "[1] 1844    1"
      ]
     },
     "metadata": {},
     "output_type": "display_data"
    },
    {
     "data": {
      "text/html": [
       "<style>\n",
       ".list-inline {list-style: none; margin:0; padding: 0}\n",
       ".list-inline>li {display: inline-block}\n",
       ".list-inline>li:not(:last-child)::after {content: \"\\00b7\"; padding: 0 .5ex}\n",
       "</style>\n",
       "<ol class=list-inline><li>2004</li><li>1</li></ol>\n"
      ],
      "text/latex": [
       "\\begin{enumerate*}\n",
       "\\item 2004\n",
       "\\item 1\n",
       "\\end{enumerate*}\n"
      ],
      "text/markdown": [
       "1. 2004\n",
       "2. 1\n",
       "\n",
       "\n"
      ],
      "text/plain": [
       "[1] 2004    1"
      ]
     },
     "metadata": {},
     "output_type": "display_data"
    },
    {
     "data": {
      "text/html": [
       "1"
      ],
      "text/latex": [
       "1"
      ],
      "text/markdown": [
       "1"
      ],
      "text/plain": [
       "[1] 1"
      ]
     },
     "metadata": {},
     "output_type": "display_data"
    },
    {
     "data": {
      "image/png": "[encoded data removed]",
      "text/plain": [
       "plot without title"
      ]
     },
     "metadata": {
      "image/png": {
       "height": 420,
       "width": 420
      }
     },
     "output_type": "display_data"
    }
   ],
   "source": [
    "start(yr)\n",
    "end(yr)\n",
    "frequency(yr)\n",
    "plot(yr)"
   ]
  },
  {
   "cell_type": "code",
   "execution_count": 13,
   "id": "447478bd",
   "metadata": {},
   "outputs": [
    {
     "data": {
      "image/png": "[encoded data removed]",
      "text/plain": [
       "plot without title"
      ]
     },
     "metadata": {
      "image/png": {
       "height": 420,
       "width": 420
      }
     },
     "output_type": "display_data"
    }
   ],
   "source": [
    "plot(yr, pch=16, type='b', col='blue')\n",
    "grid(, col='darkgrey', nx=25)"
   ]
  },
  {
   "cell_type": "code",
   "execution_count": 15,
   "id": "cf3240c6",
   "metadata": {},
   "outputs": [
    {
     "data": {
      "image/png": "[encoded data removed]",
      "text/plain": [
       "plot without title"
      ]
     },
     "metadata": {
      "image/png": {
       "height": 420,
       "width": 420
      }
     },
     "output_type": "display_data"
    }
   ],
   "source": [
    "boxplot(yr~cycle(yr), col='lightblue')"
   ]
  },
  {
   "cell_type": "markdown",
   "id": "030192bc",
   "metadata": {},
   "source": [
    "## Decomposition"
   ]
  },
  {
   "cell_type": "code",
   "execution_count": 16,
   "id": "6531b5b7",
   "metadata": {},
   "outputs": [
    {
     "ename": "ERROR",
     "evalue": "Error in decompose(yr, type = \"additive\"): time series has no or less than 2 periods\n",
     "output_type": "error",
     "traceback": [
      "Error in decompose(yr, type = \"additive\"): time series has no or less than 2 periods\nTraceback:\n",
      "1. decompose(yr, type = \"additive\")",
      "2. stop(\"time series has no or less than 2 periods\")"
     ]
    }
   ],
   "source": [
    "decomp <- decompose(yr, type = \"additive\")"
   ]
  },
  {
   "cell_type": "markdown",
   "id": "f48f1b2e",
   "metadata": {},
   "source": [
    "#### Model training"
   ]
  },
  {
   "cell_type": "code",
   "execution_count": 18,
   "id": "4259ac31",
   "metadata": {},
   "outputs": [],
   "source": [
    "train <- window(yr,  start=c(1844,1), end=c(2003,1))\n",
    "test <- window(yr, start=c(2004,1))"
   ]
  },
  {
   "cell_type": "markdown",
   "id": "2c167e09",
   "metadata": {},
   "source": [
    "## Exponential Smoothing"
   ]
  },
  {
   "cell_type": "markdown",
   "id": "8a4eba4c",
   "metadata": {},
   "source": [
    "### Exponential Smoothing Level Only - Simple Expo Smoothing"
   ]
  },
  {
   "cell_type": "code",
   "execution_count": 19,
   "id": "84e987db",
   "metadata": {},
   "outputs": [
    {
     "name": "stderr",
     "output_type": "stream",
     "text": [
      "Warning message:\n",
      "\"package 'forecast' was built under R version 4.2.3\"\n",
      "Registered S3 method overwritten by 'quantmod':\n",
      "  method            from\n",
      "  as.zoo.data.frame zoo \n",
      "\n"
     ]
    }
   ],
   "source": [
    "library(forecast)"
   ]
  },
  {
   "cell_type": "code",
   "execution_count": 20,
   "id": "b87bd88f",
   "metadata": {},
   "outputs": [],
   "source": [
    "fit.ses <- ses(train, seasonal='additive')"
   ]
  },
  {
   "cell_type": "code",
   "execution_count": 21,
   "id": "5347c9d1",
   "metadata": {},
   "outputs": [
    {
     "data": {
      "image/png": "[encoded data removed]",
      "text/plain": [
       "Plot with title \"Forecasts from Simple exponential smoothing\""
      ]
     },
     "metadata": {
      "image/png": {
       "height": 420,
       "width": 420
      }
     },
     "output_type": "display_data"
    }
   ],
   "source": [
    "plot(fit.ses, col='blue', lwd=3)\n",
    "x <- as.vector(time(train))\n",
    "y <- fit.ses$fitted\n",
    "lines(x, y, col='black', lwd=3)\n",
    "x <- as.vector(time(test))\n",
    "y <- test\n",
    "lines(x, y, col='red', lwd=3)"
   ]
  },
  {
   "cell_type": "code",
   "execution_count": 22,
   "id": "bf4cec0f",
   "metadata": {},
   "outputs": [
    {
     "data": {
      "image/png": "[encoded data removed]",
      "text/plain": [
       "Plot with title \"Forecasts from Simple exponential smoothing\""
      ]
     },
     "metadata": {
      "image/png": {
       "height": 420,
       "width": 420
      }
     },
     "output_type": "display_data"
    }
   ],
   "source": [
    "plot(fit.ses, col='blue', lwd=3, xlim=c(1980,2005))\n",
    "x <- as.vector(time(train))\n",
    "y <- fit.ses$fitted\n",
    "lines(x, y, col='black', lwd=3)\n",
    "x <- as.vector(time(test))\n",
    "y <- test\n",
    "lines(x, y, col='red', lwd=3)"
   ]
  },
  {
   "cell_type": "code",
   "execution_count": 23,
   "id": "3ee920ab",
   "metadata": {},
   "outputs": [
    {
     "data": {
      "text/plain": [
       "Simple exponential smoothing \n",
       "\n",
       "Call:\n",
       " ses(y = train, seasonal = \"additive\") \n",
       "\n",
       "  Smoothing parameters:\n",
       "    alpha = 0.1682 \n",
       "\n",
       "  Initial states:\n",
       "    l = 8.7107 \n",
       "\n",
       "  sigma:  0.4636\n",
       "\n",
       "     AIC     AICc      BIC \n",
       "570.0191 570.1729 579.2446 "
      ]
     },
     "metadata": {},
     "output_type": "display_data"
    }
   ],
   "source": [
    "fit.ses$model"
   ]
  },
  {
   "cell_type": "code",
   "execution_count": 24,
   "id": "04ecd8f1",
   "metadata": {},
   "outputs": [
    {
     "data": {
      "text/plain": [
       "     Point Forecast    Lo 80    Hi 80    Lo 95    Hi 95\n",
       "2004       9.148506 8.554382 9.742631 8.239871 10.05714\n",
       "2005       9.148506 8.546037 9.750976 8.227109 10.06990\n",
       "2006       9.148506 8.537806 9.759207 8.214521 10.08249\n",
       "2007       9.148506 8.529685 9.767328 8.202100 10.09491\n",
       "2008       9.148506 8.521668 9.775344 8.189840 10.10717\n",
       "2009       9.148506 8.513753 9.783259 8.177735 10.11928\n",
       "2010       9.148506 8.505936 9.791077 8.165779 10.13123\n",
       "2011       9.148506 8.498212 9.798800 8.153967 10.14305\n",
       "2012       9.148506 8.490579 9.806433 8.142294 10.15472\n",
       "2013       9.148506 8.483034 9.813979 8.130754 10.16626"
      ]
     },
     "metadata": {},
     "output_type": "display_data"
    }
   ],
   "source": [
    "fit.ses"
   ]
  },
  {
   "cell_type": "code",
   "execution_count": 25,
   "id": "e7f83e2c",
   "metadata": {},
   "outputs": [
    {
     "data": {
      "text/html": [
       "<table class=\"dataframe\">\n",
       "<caption>A matrix: 2 × 7 of type dbl</caption>\n",
       "<thead>\n",
       "\t<tr><th></th><th scope=col>ME</th><th scope=col>RMSE</th><th scope=col>MAE</th><th scope=col>MPE</th><th scope=col>MAPE</th><th scope=col>MASE</th><th scope=col>ACF1</th></tr>\n",
       "</thead>\n",
       "<tbody>\n",
       "\t<tr><th scope=row>Training set</th><td>0.01626997</td><td>0.4606912</td><td>0.3530607</td><td>-0.09360846</td><td>4.192904</td><td>0.7160288</td><td>-0.03093941</td></tr>\n",
       "\t<tr><th scope=row>Test set</th><td>0.35149372</td><td>0.3514937</td><td>0.3514937</td><td> 3.69993387</td><td>3.699934</td><td>0.7128508</td><td>         NA</td></tr>\n",
       "</tbody>\n",
       "</table>\n"
      ],
      "text/latex": [
       "A matrix: 2 × 7 of type dbl\n",
       "\\begin{tabular}{r|lllllll}\n",
       "  & ME & RMSE & MAE & MPE & MAPE & MASE & ACF1\\\\\n",
       "\\hline\n",
       "\tTraining set & 0.01626997 & 0.4606912 & 0.3530607 & -0.09360846 & 4.192904 & 0.7160288 & -0.03093941\\\\\n",
       "\tTest set & 0.35149372 & 0.3514937 & 0.3514937 &  3.69993387 & 3.699934 & 0.7128508 &          NA\\\\\n",
       "\\end{tabular}\n"
      ],
      "text/markdown": [
       "\n",
       "A matrix: 2 × 7 of type dbl\n",
       "\n",
       "| <!--/--> | ME | RMSE | MAE | MPE | MAPE | MASE | ACF1 |\n",
       "|---|---|---|---|---|---|---|---|\n",
       "| Training set | 0.01626997 | 0.4606912 | 0.3530607 | -0.09360846 | 4.192904 | 0.7160288 | -0.03093941 |\n",
       "| Test set | 0.35149372 | 0.3514937 | 0.3514937 |  3.69993387 | 3.699934 | 0.7128508 |          NA |\n",
       "\n"
      ],
      "text/plain": [
       "             ME         RMSE      MAE       MPE         MAPE     MASE     \n",
       "Training set 0.01626997 0.4606912 0.3530607 -0.09360846 4.192904 0.7160288\n",
       "Test set     0.35149372 0.3514937 0.3514937  3.69993387 3.699934 0.7128508\n",
       "             ACF1       \n",
       "Training set -0.03093941\n",
       "Test set              NA"
      ]
     },
     "metadata": {},
     "output_type": "display_data"
    }
   ],
   "source": [
    "ses_acc <- accuracy(fit.ses, test)\n",
    "ses_acc"
   ]
  },
  {
   "cell_type": "markdown",
   "id": "164ddc3c",
   "metadata": {},
   "source": [
    "### Exponential Smoothing Level Only - ETS ANN"
   ]
  },
  {
   "cell_type": "code",
   "execution_count": 26,
   "id": "52633352",
   "metadata": {},
   "outputs": [],
   "source": [
    "ets.ann1 <- ets(train, model='ANN')\n",
    "f.ets.ann1 <- forecast(ets.ann1, h=length(test))"
   ]
  },
  {
   "cell_type": "code",
   "execution_count": 27,
   "id": "0e419a1f",
   "metadata": {},
   "outputs": [
    {
     "data": {
      "image/png": "[encoded data removed]",
      "text/plain": [
       "Plot with title \"Forecasts from ETS(A,N,N)\""
      ]
     },
     "metadata": {
      "image/png": {
       "height": 420,
       "width": 420
      }
     },
     "output_type": "display_data"
    }
   ],
   "source": [
    "plot(f.ets.ann1, lw=2, col='blue')\n",
    "x <- as.vector(time(train))\n",
    "y <- f.ets.ann1$fitted\n",
    "lines(x, y, col='black', lw=4)\n",
    "x <- as.vector(time(test))\n",
    "y <- test\n",
    "lines(x, y, col='red', lwd=3)"
   ]
  },
  {
   "cell_type": "code",
   "execution_count": 28,
   "id": "95c83ecc",
   "metadata": {},
   "outputs": [
    {
     "data": {
      "image/png": "[encoded data removed]",
      "text/plain": [
       "Plot with title \"Forecasts from ETS(A,N,N)\""
      ]
     },
     "metadata": {
      "image/png": {
       "height": 420,
       "width": 420
      }
     },
     "output_type": "display_data"
    }
   ],
   "source": [
    "plot(f.ets.ann1, lw=2, col='blue', xlim=c(1980,2005))\n",
    "x <- as.vector(time(train))\n",
    "y <- f.ets.ann1$fitted\n",
    "lines(x, y, col='black', lw=4)\n",
    "x <- as.vector(time(test))\n",
    "y <- test\n",
    "lines(x, y, col='red', lwd=3)"
   ]
  },
  {
   "cell_type": "code",
   "execution_count": 29,
   "id": "c7981fd6",
   "metadata": {},
   "outputs": [
    {
     "data": {
      "text/plain": [
       "ETS(A,N,N) \n",
       "\n",
       "Call:\n",
       " ets(y = train, model = \"ANN\") \n",
       "\n",
       "  Smoothing parameters:\n",
       "    alpha = 0.1682 \n",
       "\n",
       "  Initial states:\n",
       "    l = 8.7104 \n",
       "\n",
       "  sigma:  0.4636\n",
       "\n",
       "     AIC     AICc      BIC \n",
       "570.0191 570.1729 579.2446 "
      ]
     },
     "metadata": {},
     "output_type": "display_data"
    }
   ],
   "source": [
    "ets.ann1"
   ]
  },
  {
   "cell_type": "code",
   "execution_count": 30,
   "id": "28d50c9e",
   "metadata": {},
   "outputs": [
    {
     "data": {
      "text/plain": [
       "     Point Forecast    Lo 80    Hi 80    Lo 95   Hi 95\n",
       "2004       9.148564 8.554439 9.742688 8.239929 10.0572"
      ]
     },
     "metadata": {},
     "output_type": "display_data"
    }
   ],
   "source": [
    "f.ets.ann1"
   ]
  },
  {
   "cell_type": "code",
   "execution_count": 31,
   "id": "2031310b",
   "metadata": {
    "scrolled": true
   },
   "outputs": [
    {
     "data": {
      "text/html": [
       "<table class=\"dataframe\">\n",
       "<caption>A matrix: 2 × 7 of type dbl</caption>\n",
       "<thead>\n",
       "\t<tr><th></th><th scope=col>ME</th><th scope=col>RMSE</th><th scope=col>MAE</th><th scope=col>MPE</th><th scope=col>MAPE</th><th scope=col>MASE</th><th scope=col>ACF1</th></tr>\n",
       "</thead>\n",
       "<tbody>\n",
       "\t<tr><th scope=row>Training set</th><td>0.01627885</td><td>0.4606912</td><td>0.3530613</td><td>-0.0935001</td><td>4.192907</td><td>0.7160299</td><td>-0.03098102</td></tr>\n",
       "\t<tr><th scope=row>Test set</th><td>0.35143644</td><td>0.3514364</td><td>0.3514364</td><td> 3.6993309</td><td>3.699331</td><td>0.7127346</td><td>         NA</td></tr>\n",
       "</tbody>\n",
       "</table>\n"
      ],
      "text/latex": [
       "A matrix: 2 × 7 of type dbl\n",
       "\\begin{tabular}{r|lllllll}\n",
       "  & ME & RMSE & MAE & MPE & MAPE & MASE & ACF1\\\\\n",
       "\\hline\n",
       "\tTraining set & 0.01627885 & 0.4606912 & 0.3530613 & -0.0935001 & 4.192907 & 0.7160299 & -0.03098102\\\\\n",
       "\tTest set & 0.35143644 & 0.3514364 & 0.3514364 &  3.6993309 & 3.699331 & 0.7127346 &          NA\\\\\n",
       "\\end{tabular}\n"
      ],
      "text/markdown": [
       "\n",
       "A matrix: 2 × 7 of type dbl\n",
       "\n",
       "| <!--/--> | ME | RMSE | MAE | MPE | MAPE | MASE | ACF1 |\n",
       "|---|---|---|---|---|---|---|---|\n",
       "| Training set | 0.01627885 | 0.4606912 | 0.3530613 | -0.0935001 | 4.192907 | 0.7160299 | -0.03098102 |\n",
       "| Test set | 0.35143644 | 0.3514364 | 0.3514364 |  3.6993309 | 3.699331 | 0.7127346 |          NA |\n",
       "\n"
      ],
      "text/plain": [
       "             ME         RMSE      MAE       MPE        MAPE     MASE     \n",
       "Training set 0.01627885 0.4606912 0.3530613 -0.0935001 4.192907 0.7160299\n",
       "Test set     0.35143644 0.3514364 0.3514364  3.6993309 3.699331 0.7127346\n",
       "             ACF1       \n",
       "Training set -0.03098102\n",
       "Test set              NA"
      ]
     },
     "metadata": {},
     "output_type": "display_data"
    }
   ],
   "source": [
    "ets.ann1_acc <- accuracy(f.ets.ann1, test)\n",
    "ets.ann1_acc"
   ]
  },
  {
   "cell_type": "markdown",
   "id": "880f2149",
   "metadata": {},
   "source": [
    "### Exponential Smoothing Trend Only - Holt"
   ]
  },
  {
   "cell_type": "code",
   "execution_count": 33,
   "id": "6993d0e4",
   "metadata": {},
   "outputs": [],
   "source": [
    "fit.holt <- holt(train)"
   ]
  },
  {
   "cell_type": "code",
   "execution_count": 34,
   "id": "333da996",
   "metadata": {},
   "outputs": [
    {
     "data": {
      "image/png": "[encoded data removed]",
      "text/plain": [
       "Plot with title \"Forecasts from Holt's method\""
      ]
     },
     "metadata": {
      "image/png": {
       "height": 420,
       "width": 420
      }
     },
     "output_type": "display_data"
    }
   ],
   "source": [
    "plot(fit.holt, col='blue', lwd=3)\n",
    "x <- as.vector(time(train))\n",
    "y <- fit.holt$fitted\n",
    "lines(x, y, col='black', lwd=3)\n",
    "x <- as.vector(time(test))\n",
    "y <- test\n",
    "lines(x, y, col='red', lwd=3)"
   ]
  },
  {
   "cell_type": "code",
   "execution_count": 35,
   "id": "575fc554",
   "metadata": {},
   "outputs": [
    {
     "data": {
      "image/png": "[encoded data removed]",
      "text/plain": [
       "Plot with title \"Forecasts from Holt's method\""
      ]
     },
     "metadata": {
      "image/png": {
       "height": 420,
       "width": 420
      }
     },
     "output_type": "display_data"
    }
   ],
   "source": [
    "plot(fit.holt, col='blue', lwd=3, xlim=c(1980,2005))\n",
    "x <- as.vector(time(train))\n",
    "y <- fit.holt$fitted\n",
    "lines(x, y, col='black', lwd=3)\n",
    "x <- as.vector(time(test))\n",
    "y <- test\n",
    "lines(x, y, col='red', lwd=3)"
   ]
  },
  {
   "cell_type": "code",
   "execution_count": 36,
   "id": "979076e1",
   "metadata": {},
   "outputs": [
    {
     "data": {
      "text/plain": [
       "Holt's method \n",
       "\n",
       "Call:\n",
       " holt(y = train) \n",
       "\n",
       "  Smoothing parameters:\n",
       "    alpha = 0.1683 \n",
       "    beta  = 1e-04 \n",
       "\n",
       "  Initial states:\n",
       "    l = 8.7744 \n",
       "    b = 0.0034 \n",
       "\n",
       "  sigma:  0.4665\n",
       "\n",
       "     AIC     AICc      BIC \n",
       "574.0088 574.3984 589.3846 "
      ]
     },
     "metadata": {},
     "output_type": "display_data"
    }
   ],
   "source": [
    "fit.holt$model"
   ]
  },
  {
   "cell_type": "code",
   "execution_count": 37,
   "id": "35f74ede",
   "metadata": {},
   "outputs": [
    {
     "data": {
      "text/plain": [
       "     Point Forecast    Lo 80    Hi 80    Lo 95    Hi 95\n",
       "2004       9.167736 8.569835 9.765638 8.253325 10.08215\n",
       "2005       9.171056 8.564737 9.777375 8.243771 10.09834\n",
       "2006       9.174376 8.559745 9.789007 8.234379 10.11437\n",
       "2007       9.177696 8.554854 9.800538 8.225142 10.13025\n",
       "2008       9.181016 8.550061 9.811972 8.216053 10.14598\n",
       "2009       9.184336 8.545361 9.823312 8.207108 10.16156\n",
       "2010       9.187656 8.540751 9.834561 8.198300 10.17701\n",
       "2011       9.190976 8.536228 9.845724 8.189625 10.19233\n",
       "2012       9.194296 8.531789 9.856804 8.181078 10.20751\n",
       "2013       9.197616 8.527430 9.867802 8.172655 10.22258"
      ]
     },
     "metadata": {},
     "output_type": "display_data"
    }
   ],
   "source": [
    "fit.holt"
   ]
  },
  {
   "cell_type": "code",
   "execution_count": 38,
   "id": "db9f41f3",
   "metadata": {},
   "outputs": [
    {
     "data": {
      "text/html": [
       "<table class=\"dataframe\">\n",
       "<caption>A matrix: 2 × 7 of type dbl</caption>\n",
       "<thead>\n",
       "\t<tr><th></th><th scope=col>ME</th><th scope=col>RMSE</th><th scope=col>MAE</th><th scope=col>MPE</th><th scope=col>MAPE</th><th scope=col>MASE</th><th scope=col>ACF1</th></tr>\n",
       "</thead>\n",
       "<tbody>\n",
       "\t<tr><th scope=row>Training set</th><td>-0.003704767</td><td>0.4606764</td><td>0.3524410</td><td>-0.3292609</td><td>4.195262</td><td>0.7147719</td><td>-0.03040005</td></tr>\n",
       "\t<tr><th scope=row>Test set</th><td> 0.332263649</td><td>0.3322636</td><td>0.3322636</td><td> 3.4975121</td><td>3.497512</td><td>0.6738510</td><td>         NA</td></tr>\n",
       "</tbody>\n",
       "</table>\n"
      ],
      "text/latex": [
       "A matrix: 2 × 7 of type dbl\n",
       "\\begin{tabular}{r|lllllll}\n",
       "  & ME & RMSE & MAE & MPE & MAPE & MASE & ACF1\\\\\n",
       "\\hline\n",
       "\tTraining set & -0.003704767 & 0.4606764 & 0.3524410 & -0.3292609 & 4.195262 & 0.7147719 & -0.03040005\\\\\n",
       "\tTest set &  0.332263649 & 0.3322636 & 0.3322636 &  3.4975121 & 3.497512 & 0.6738510 &          NA\\\\\n",
       "\\end{tabular}\n"
      ],
      "text/markdown": [
       "\n",
       "A matrix: 2 × 7 of type dbl\n",
       "\n",
       "| <!--/--> | ME | RMSE | MAE | MPE | MAPE | MASE | ACF1 |\n",
       "|---|---|---|---|---|---|---|---|\n",
       "| Training set | -0.003704767 | 0.4606764 | 0.3524410 | -0.3292609 | 4.195262 | 0.7147719 | -0.03040005 |\n",
       "| Test set |  0.332263649 | 0.3322636 | 0.3322636 |  3.4975121 | 3.497512 | 0.6738510 |          NA |\n",
       "\n"
      ],
      "text/plain": [
       "             ME           RMSE      MAE       MPE        MAPE     MASE     \n",
       "Training set -0.003704767 0.4606764 0.3524410 -0.3292609 4.195262 0.7147719\n",
       "Test set      0.332263649 0.3322636 0.3322636  3.4975121 3.497512 0.6738510\n",
       "             ACF1       \n",
       "Training set -0.03040005\n",
       "Test set              NA"
      ]
     },
     "metadata": {},
     "output_type": "display_data"
    }
   ],
   "source": [
    "holt_acc <- accuracy(fit.holt, test)\n",
    "holt_acc"
   ]
  },
  {
   "cell_type": "markdown",
   "id": "d98a95c0",
   "metadata": {},
   "source": [
    "### Exponential Smoothing Trend Only - ETS AAN"
   ]
  },
  {
   "cell_type": "code",
   "execution_count": 39,
   "id": "6eeecf7b",
   "metadata": {},
   "outputs": [],
   "source": [
    "ets.aan2 <- ets(train, model='AAN')\n",
    "f.ets.aan2 <- forecast(ets.aan2, h=length(test))"
   ]
  },
  {
   "cell_type": "code",
   "execution_count": 40,
   "id": "04104476",
   "metadata": {},
   "outputs": [
    {
     "data": {
      "image/png": "[encoded data removed]",
      "text/plain": [
       "Plot with title \"Forecasts from ETS(A,Ad,N)\""
      ]
     },
     "metadata": {
      "image/png": {
       "height": 420,
       "width": 420
      }
     },
     "output_type": "display_data"
    }
   ],
   "source": [
    "plot(f.ets.aan2, lw=2, col='blue')\n",
    "x <- as.vector(time(train))\n",
    "y <- f.ets.aan2$fitted\n",
    "lines(x, y, col='black', lw=4)\n",
    "x <- as.vector(time(test))\n",
    "y <- test\n",
    "lines(x, y, col='red', lwd=3)"
   ]
  },
  {
   "cell_type": "code",
   "execution_count": 41,
   "id": "e3a80e5a",
   "metadata": {},
   "outputs": [
    {
     "data": {
      "image/png": "[encoded data removed]",
      "text/plain": [
       "Plot with title \"Forecasts from ETS(A,Ad,N)\""
      ]
     },
     "metadata": {
      "image/png": {
       "height": 420,
       "width": 420
      }
     },
     "output_type": "display_data"
    }
   ],
   "source": [
    "plot(f.ets.aan2, lw=2, col='blue', xlim=c(1980,2005))\n",
    "x <- as.vector(time(train))\n",
    "y <- f.ets.aan2$fitted\n",
    "lines(x, y, col='black', lw=4)\n",
    "x <- as.vector(time(test))\n",
    "y <- test\n",
    "lines(x, y, col='red', lwd=3)"
   ]
  },
  {
   "cell_type": "code",
   "execution_count": 42,
   "id": "53749dfd",
   "metadata": {},
   "outputs": [
    {
     "data": {
      "text/plain": [
       "ETS(A,Ad,N) \n",
       "\n",
       "Call:\n",
       " ets(y = train, model = \"AAN\") \n",
       "\n",
       "  Smoothing parameters:\n",
       "    alpha = 0.0503 \n",
       "    beta  = 0.0503 \n",
       "    phi   = 0.8087 \n",
       "\n",
       "  Initial states:\n",
       "    l = 8.8848 \n",
       "    b = -0.0355 \n",
       "\n",
       "  sigma:  0.4644\n",
       "\n",
       "     AIC     AICc      BIC \n",
       "573.5174 574.0664 591.9684 "
      ]
     },
     "metadata": {},
     "output_type": "display_data"
    }
   ],
   "source": [
    "ets.aan2"
   ]
  },
  {
   "cell_type": "code",
   "execution_count": 43,
   "id": "34924220",
   "metadata": {},
   "outputs": [
    {
     "data": {
      "text/plain": [
       "     Point Forecast    Lo 80    Hi 80    Lo 95    Hi 95\n",
       "2004       9.283167 8.687991 9.878342 8.372925 10.19341"
      ]
     },
     "metadata": {},
     "output_type": "display_data"
    }
   ],
   "source": [
    "f.ets.aan2"
   ]
  },
  {
   "cell_type": "code",
   "execution_count": 44,
   "id": "621cb5b3",
   "metadata": {},
   "outputs": [
    {
     "data": {
      "text/html": [
       "<table class=\"dataframe\">\n",
       "<caption>A matrix: 2 × 7 of type dbl</caption>\n",
       "<thead>\n",
       "\t<tr><th></th><th scope=col>ME</th><th scope=col>RMSE</th><th scope=col>MAE</th><th scope=col>MPE</th><th scope=col>MAPE</th><th scope=col>MASE</th><th scope=col>ACF1</th></tr>\n",
       "</thead>\n",
       "<tbody>\n",
       "\t<tr><th scope=row>Training set</th><td>0.01652178</td><td>0.4571036</td><td>0.3516667</td><td>-0.07618898</td><td>4.175121</td><td>0.7132016</td><td>0.02915575</td></tr>\n",
       "\t<tr><th scope=row>Test set</th><td>0.21683338</td><td>0.2168334</td><td>0.2168334</td><td> 2.28245668</td><td>2.282457</td><td>0.4397514</td><td>        NA</td></tr>\n",
       "</tbody>\n",
       "</table>\n"
      ],
      "text/latex": [
       "A matrix: 2 × 7 of type dbl\n",
       "\\begin{tabular}{r|lllllll}\n",
       "  & ME & RMSE & MAE & MPE & MAPE & MASE & ACF1\\\\\n",
       "\\hline\n",
       "\tTraining set & 0.01652178 & 0.4571036 & 0.3516667 & -0.07618898 & 4.175121 & 0.7132016 & 0.02915575\\\\\n",
       "\tTest set & 0.21683338 & 0.2168334 & 0.2168334 &  2.28245668 & 2.282457 & 0.4397514 &         NA\\\\\n",
       "\\end{tabular}\n"
      ],
      "text/markdown": [
       "\n",
       "A matrix: 2 × 7 of type dbl\n",
       "\n",
       "| <!--/--> | ME | RMSE | MAE | MPE | MAPE | MASE | ACF1 |\n",
       "|---|---|---|---|---|---|---|---|\n",
       "| Training set | 0.01652178 | 0.4571036 | 0.3516667 | -0.07618898 | 4.175121 | 0.7132016 | 0.02915575 |\n",
       "| Test set | 0.21683338 | 0.2168334 | 0.2168334 |  2.28245668 | 2.282457 | 0.4397514 |         NA |\n",
       "\n"
      ],
      "text/plain": [
       "             ME         RMSE      MAE       MPE         MAPE     MASE     \n",
       "Training set 0.01652178 0.4571036 0.3516667 -0.07618898 4.175121 0.7132016\n",
       "Test set     0.21683338 0.2168334 0.2168334  2.28245668 2.282457 0.4397514\n",
       "             ACF1      \n",
       "Training set 0.02915575\n",
       "Test set             NA"
      ]
     },
     "metadata": {},
     "output_type": "display_data"
    }
   ],
   "source": [
    "etsT_acc<-accuracy(f.ets.aan2, test)\n",
    "etsT_acc"
   ]
  },
  {
   "cell_type": "markdown",
   "id": "29990e6b",
   "metadata": {},
   "source": [
    "#### Comparing the EST models"
   ]
  },
  {
   "cell_type": "markdown",
   "id": "0921f03b",
   "metadata": {},
   "source": [
    "##### EST Only"
   ]
  },
  {
   "cell_type": "code",
   "execution_count": 45,
   "id": "95c8e3e6",
   "metadata": {},
   "outputs": [
    {
     "data": {
      "text/html": [
       "<table class=\"dataframe\">\n",
       "<caption>A matrix: 2 × 7 of type dbl</caption>\n",
       "<thead>\n",
       "\t<tr><th></th><th scope=col>ME</th><th scope=col>RMSE</th><th scope=col>MAE</th><th scope=col>MPE</th><th scope=col>MAPE</th><th scope=col>MASE</th><th scope=col>ACF1</th></tr>\n",
       "</thead>\n",
       "<tbody>\n",
       "\t<tr><th scope=row>Training set</th><td>0.01626997</td><td>0.4606912</td><td>0.3530607</td><td>-0.09360846</td><td>4.192904</td><td>0.7160288</td><td>-0.03093941</td></tr>\n",
       "\t<tr><th scope=row>Test set</th><td>0.35149372</td><td>0.3514937</td><td>0.3514937</td><td> 3.69993387</td><td>3.699934</td><td>0.7128508</td><td>         NA</td></tr>\n",
       "</tbody>\n",
       "</table>\n"
      ],
      "text/latex": [
       "A matrix: 2 × 7 of type dbl\n",
       "\\begin{tabular}{r|lllllll}\n",
       "  & ME & RMSE & MAE & MPE & MAPE & MASE & ACF1\\\\\n",
       "\\hline\n",
       "\tTraining set & 0.01626997 & 0.4606912 & 0.3530607 & -0.09360846 & 4.192904 & 0.7160288 & -0.03093941\\\\\n",
       "\tTest set & 0.35149372 & 0.3514937 & 0.3514937 &  3.69993387 & 3.699934 & 0.7128508 &          NA\\\\\n",
       "\\end{tabular}\n"
      ],
      "text/markdown": [
       "\n",
       "A matrix: 2 × 7 of type dbl\n",
       "\n",
       "| <!--/--> | ME | RMSE | MAE | MPE | MAPE | MASE | ACF1 |\n",
       "|---|---|---|---|---|---|---|---|\n",
       "| Training set | 0.01626997 | 0.4606912 | 0.3530607 | -0.09360846 | 4.192904 | 0.7160288 | -0.03093941 |\n",
       "| Test set | 0.35149372 | 0.3514937 | 0.3514937 |  3.69993387 | 3.699934 | 0.7128508 |          NA |\n",
       "\n"
      ],
      "text/plain": [
       "             ME         RMSE      MAE       MPE         MAPE     MASE     \n",
       "Training set 0.01626997 0.4606912 0.3530607 -0.09360846 4.192904 0.7160288\n",
       "Test set     0.35149372 0.3514937 0.3514937  3.69993387 3.699934 0.7128508\n",
       "             ACF1       \n",
       "Training set -0.03093941\n",
       "Test set              NA"
      ]
     },
     "metadata": {},
     "output_type": "display_data"
    },
    {
     "data": {
      "text/html": [
       "<table class=\"dataframe\">\n",
       "<caption>A matrix: 2 × 7 of type dbl</caption>\n",
       "<thead>\n",
       "\t<tr><th></th><th scope=col>ME</th><th scope=col>RMSE</th><th scope=col>MAE</th><th scope=col>MPE</th><th scope=col>MAPE</th><th scope=col>MASE</th><th scope=col>ACF1</th></tr>\n",
       "</thead>\n",
       "<tbody>\n",
       "\t<tr><th scope=row>Training set</th><td>0.01627885</td><td>0.4606912</td><td>0.3530613</td><td>-0.0935001</td><td>4.192907</td><td>0.7160299</td><td>-0.03098102</td></tr>\n",
       "\t<tr><th scope=row>Test set</th><td>0.35143644</td><td>0.3514364</td><td>0.3514364</td><td> 3.6993309</td><td>3.699331</td><td>0.7127346</td><td>         NA</td></tr>\n",
       "</tbody>\n",
       "</table>\n"
      ],
      "text/latex": [
       "A matrix: 2 × 7 of type dbl\n",
       "\\begin{tabular}{r|lllllll}\n",
       "  & ME & RMSE & MAE & MPE & MAPE & MASE & ACF1\\\\\n",
       "\\hline\n",
       "\tTraining set & 0.01627885 & 0.4606912 & 0.3530613 & -0.0935001 & 4.192907 & 0.7160299 & -0.03098102\\\\\n",
       "\tTest set & 0.35143644 & 0.3514364 & 0.3514364 &  3.6993309 & 3.699331 & 0.7127346 &          NA\\\\\n",
       "\\end{tabular}\n"
      ],
      "text/markdown": [
       "\n",
       "A matrix: 2 × 7 of type dbl\n",
       "\n",
       "| <!--/--> | ME | RMSE | MAE | MPE | MAPE | MASE | ACF1 |\n",
       "|---|---|---|---|---|---|---|---|\n",
       "| Training set | 0.01627885 | 0.4606912 | 0.3530613 | -0.0935001 | 4.192907 | 0.7160299 | -0.03098102 |\n",
       "| Test set | 0.35143644 | 0.3514364 | 0.3514364 |  3.6993309 | 3.699331 | 0.7127346 |          NA |\n",
       "\n"
      ],
      "text/plain": [
       "             ME         RMSE      MAE       MPE        MAPE     MASE     \n",
       "Training set 0.01627885 0.4606912 0.3530613 -0.0935001 4.192907 0.7160299\n",
       "Test set     0.35143644 0.3514364 0.3514364  3.6993309 3.699331 0.7127346\n",
       "             ACF1       \n",
       "Training set -0.03098102\n",
       "Test set              NA"
      ]
     },
     "metadata": {},
     "output_type": "display_data"
    }
   ],
   "source": [
    "ses_acc #Simple\n",
    "ets.ann1_acc #EST ANN Only"
   ]
  },
  {
   "cell_type": "markdown",
   "id": "6b42c25b",
   "metadata": {},
   "source": [
    "##### Trend only"
   ]
  },
  {
   "cell_type": "code",
   "execution_count": 46,
   "id": "fbaef32d",
   "metadata": {},
   "outputs": [
    {
     "data": {
      "text/html": [
       "<table class=\"dataframe\">\n",
       "<caption>A matrix: 2 × 7 of type dbl</caption>\n",
       "<thead>\n",
       "\t<tr><th></th><th scope=col>ME</th><th scope=col>RMSE</th><th scope=col>MAE</th><th scope=col>MPE</th><th scope=col>MAPE</th><th scope=col>MASE</th><th scope=col>ACF1</th></tr>\n",
       "</thead>\n",
       "<tbody>\n",
       "\t<tr><th scope=row>Training set</th><td>-0.003704767</td><td>0.4606764</td><td>0.3524410</td><td>-0.3292609</td><td>4.195262</td><td>0.7147719</td><td>-0.03040005</td></tr>\n",
       "\t<tr><th scope=row>Test set</th><td> 0.332263649</td><td>0.3322636</td><td>0.3322636</td><td> 3.4975121</td><td>3.497512</td><td>0.6738510</td><td>         NA</td></tr>\n",
       "</tbody>\n",
       "</table>\n"
      ],
      "text/latex": [
       "A matrix: 2 × 7 of type dbl\n",
       "\\begin{tabular}{r|lllllll}\n",
       "  & ME & RMSE & MAE & MPE & MAPE & MASE & ACF1\\\\\n",
       "\\hline\n",
       "\tTraining set & -0.003704767 & 0.4606764 & 0.3524410 & -0.3292609 & 4.195262 & 0.7147719 & -0.03040005\\\\\n",
       "\tTest set &  0.332263649 & 0.3322636 & 0.3322636 &  3.4975121 & 3.497512 & 0.6738510 &          NA\\\\\n",
       "\\end{tabular}\n"
      ],
      "text/markdown": [
       "\n",
       "A matrix: 2 × 7 of type dbl\n",
       "\n",
       "| <!--/--> | ME | RMSE | MAE | MPE | MAPE | MASE | ACF1 |\n",
       "|---|---|---|---|---|---|---|---|\n",
       "| Training set | -0.003704767 | 0.4606764 | 0.3524410 | -0.3292609 | 4.195262 | 0.7147719 | -0.03040005 |\n",
       "| Test set |  0.332263649 | 0.3322636 | 0.3322636 |  3.4975121 | 3.497512 | 0.6738510 |          NA |\n",
       "\n"
      ],
      "text/plain": [
       "             ME           RMSE      MAE       MPE        MAPE     MASE     \n",
       "Training set -0.003704767 0.4606764 0.3524410 -0.3292609 4.195262 0.7147719\n",
       "Test set      0.332263649 0.3322636 0.3322636  3.4975121 3.497512 0.6738510\n",
       "             ACF1       \n",
       "Training set -0.03040005\n",
       "Test set              NA"
      ]
     },
     "metadata": {},
     "output_type": "display_data"
    },
    {
     "data": {
      "text/html": [
       "<table class=\"dataframe\">\n",
       "<caption>A matrix: 2 × 7 of type dbl</caption>\n",
       "<thead>\n",
       "\t<tr><th></th><th scope=col>ME</th><th scope=col>RMSE</th><th scope=col>MAE</th><th scope=col>MPE</th><th scope=col>MAPE</th><th scope=col>MASE</th><th scope=col>ACF1</th></tr>\n",
       "</thead>\n",
       "<tbody>\n",
       "\t<tr><th scope=row>Training set</th><td>0.01652178</td><td>0.4571036</td><td>0.3516667</td><td>-0.07618898</td><td>4.175121</td><td>0.7132016</td><td>0.02915575</td></tr>\n",
       "\t<tr><th scope=row>Test set</th><td>0.21683338</td><td>0.2168334</td><td>0.2168334</td><td> 2.28245668</td><td>2.282457</td><td>0.4397514</td><td>        NA</td></tr>\n",
       "</tbody>\n",
       "</table>\n"
      ],
      "text/latex": [
       "A matrix: 2 × 7 of type dbl\n",
       "\\begin{tabular}{r|lllllll}\n",
       "  & ME & RMSE & MAE & MPE & MAPE & MASE & ACF1\\\\\n",
       "\\hline\n",
       "\tTraining set & 0.01652178 & 0.4571036 & 0.3516667 & -0.07618898 & 4.175121 & 0.7132016 & 0.02915575\\\\\n",
       "\tTest set & 0.21683338 & 0.2168334 & 0.2168334 &  2.28245668 & 2.282457 & 0.4397514 &         NA\\\\\n",
       "\\end{tabular}\n"
      ],
      "text/markdown": [
       "\n",
       "A matrix: 2 × 7 of type dbl\n",
       "\n",
       "| <!--/--> | ME | RMSE | MAE | MPE | MAPE | MASE | ACF1 |\n",
       "|---|---|---|---|---|---|---|---|\n",
       "| Training set | 0.01652178 | 0.4571036 | 0.3516667 | -0.07618898 | 4.175121 | 0.7132016 | 0.02915575 |\n",
       "| Test set | 0.21683338 | 0.2168334 | 0.2168334 |  2.28245668 | 2.282457 | 0.4397514 |         NA |\n",
       "\n"
      ],
      "text/plain": [
       "             ME         RMSE      MAE       MPE         MAPE     MASE     \n",
       "Training set 0.01652178 0.4571036 0.3516667 -0.07618898 4.175121 0.7132016\n",
       "Test set     0.21683338 0.2168334 0.2168334  2.28245668 2.282457 0.4397514\n",
       "             ACF1      \n",
       "Training set 0.02915575\n",
       "Test set             NA"
      ]
     },
     "metadata": {},
     "output_type": "display_data"
    }
   ],
   "source": [
    "holt_acc #Holt Winter Additive\n",
    "etsT_acc #Ets AAN Trend only"
   ]
  },
  {
   "cell_type": "markdown",
   "id": "552e8c63",
   "metadata": {},
   "source": [
    "## Simple time series models"
   ]
  },
  {
   "cell_type": "markdown",
   "id": "62035fea",
   "metadata": {},
   "source": [
    "### Forecast Using the Mean Model"
   ]
  },
  {
   "cell_type": "code",
   "execution_count": 47,
   "id": "e5e67bf1",
   "metadata": {},
   "outputs": [
    {
     "data": {
      "text/html": [
       "8.4825"
      ],
      "text/latex": [
       "8.4825"
      ],
      "text/markdown": [
       "8.4825"
      ],
      "text/plain": [
       "[1] 8.4825"
      ]
     },
     "metadata": {},
     "output_type": "display_data"
    }
   ],
   "source": [
    "mean(train)"
   ]
  },
  {
   "cell_type": "code",
   "execution_count": 48,
   "id": "e654991a",
   "metadata": {},
   "outputs": [],
   "source": [
    "fcast.mean <- meanf(train,h=12)"
   ]
  },
  {
   "cell_type": "code",
   "execution_count": 49,
   "id": "af11a115",
   "metadata": {},
   "outputs": [
    {
     "data": {
      "text/plain": [
       "     Point Forecast    Lo 80    Hi 80    Lo 95    Hi 95\n",
       "2004         8.4825 7.809997 9.155003 7.450414 9.514586\n",
       "2005         8.4825 7.809997 9.155003 7.450414 9.514586\n",
       "2006         8.4825 7.809997 9.155003 7.450414 9.514586\n",
       "2007         8.4825 7.809997 9.155003 7.450414 9.514586\n",
       "2008         8.4825 7.809997 9.155003 7.450414 9.514586\n",
       "2009         8.4825 7.809997 9.155003 7.450414 9.514586\n",
       "2010         8.4825 7.809997 9.155003 7.450414 9.514586\n",
       "2011         8.4825 7.809997 9.155003 7.450414 9.514586\n",
       "2012         8.4825 7.809997 9.155003 7.450414 9.514586\n",
       "2013         8.4825 7.809997 9.155003 7.450414 9.514586\n",
       "2014         8.4825 7.809997 9.155003 7.450414 9.514586\n",
       "2015         8.4825 7.809997 9.155003 7.450414 9.514586"
      ]
     },
     "metadata": {},
     "output_type": "display_data"
    }
   ],
   "source": [
    "fcast.mean"
   ]
  },
  {
   "cell_type": "code",
   "execution_count": 50,
   "id": "85bf0bf8",
   "metadata": {},
   "outputs": [
    {
     "data": {
      "text/html": [
       "<table class=\"dataframe\">\n",
       "<caption>A matrix: 2 × 7 of type dbl</caption>\n",
       "<thead>\n",
       "\t<tr><th></th><th scope=col>ME</th><th scope=col>RMSE</th><th scope=col>MAE</th><th scope=col>MPE</th><th scope=col>MAPE</th><th scope=col>MASE</th><th scope=col>ACF1</th></tr>\n",
       "</thead>\n",
       "<tbody>\n",
       "\t<tr><th scope=row>Training set</th><td>1.099076e-17</td><td>0.5193205</td><td>0.402125</td><td>-0.3820398</td><td> 4.783021</td><td>0.8155341</td><td>0.3079116</td></tr>\n",
       "\t<tr><th scope=row>Test set</th><td>1.017500e+00</td><td>1.0175000</td><td>1.017500</td><td>10.7105263</td><td>10.710526</td><td>2.0635523</td><td>       NA</td></tr>\n",
       "</tbody>\n",
       "</table>\n"
      ],
      "text/latex": [
       "A matrix: 2 × 7 of type dbl\n",
       "\\begin{tabular}{r|lllllll}\n",
       "  & ME & RMSE & MAE & MPE & MAPE & MASE & ACF1\\\\\n",
       "\\hline\n",
       "\tTraining set & 1.099076e-17 & 0.5193205 & 0.402125 & -0.3820398 &  4.783021 & 0.8155341 & 0.3079116\\\\\n",
       "\tTest set & 1.017500e+00 & 1.0175000 & 1.017500 & 10.7105263 & 10.710526 & 2.0635523 &        NA\\\\\n",
       "\\end{tabular}\n"
      ],
      "text/markdown": [
       "\n",
       "A matrix: 2 × 7 of type dbl\n",
       "\n",
       "| <!--/--> | ME | RMSE | MAE | MPE | MAPE | MASE | ACF1 |\n",
       "|---|---|---|---|---|---|---|---|\n",
       "| Training set | 1.099076e-17 | 0.5193205 | 0.402125 | -0.3820398 |  4.783021 | 0.8155341 | 0.3079116 |\n",
       "| Test set | 1.017500e+00 | 1.0175000 | 1.017500 | 10.7105263 | 10.710526 | 2.0635523 |        NA |\n",
       "\n"
      ],
      "text/plain": [
       "             ME           RMSE      MAE      MPE        MAPE      MASE     \n",
       "Training set 1.099076e-17 0.5193205 0.402125 -0.3820398  4.783021 0.8155341\n",
       "Test set     1.017500e+00 1.0175000 1.017500 10.7105263 10.710526 2.0635523\n",
       "             ACF1     \n",
       "Training set 0.3079116\n",
       "Test set            NA"
      ]
     },
     "metadata": {},
     "output_type": "display_data"
    },
    {
     "data": {
      "text/html": [
       "<table class=\"dataframe\">\n",
       "<caption>A matrix: 2 × 7 of type dbl</caption>\n",
       "<thead>\n",
       "\t<tr><th></th><th scope=col>ME</th><th scope=col>RMSE</th><th scope=col>MAE</th><th scope=col>MPE</th><th scope=col>MAPE</th><th scope=col>MASE</th><th scope=col>ACF1</th></tr>\n",
       "</thead>\n",
       "<tbody>\n",
       "\t<tr><th scope=row>Training set</th><td>0.0000</td><td>0.5193</td><td>0.4021</td><td>-0.3820</td><td> 4.7830</td><td>0.8155</td><td>0.3079</td></tr>\n",
       "\t<tr><th scope=row>Test set</th><td>1.0175</td><td>1.0175</td><td>1.0175</td><td>10.7105</td><td>10.7105</td><td>2.0636</td><td>    NA</td></tr>\n",
       "</tbody>\n",
       "</table>\n"
      ],
      "text/latex": [
       "A matrix: 2 × 7 of type dbl\n",
       "\\begin{tabular}{r|lllllll}\n",
       "  & ME & RMSE & MAE & MPE & MAPE & MASE & ACF1\\\\\n",
       "\\hline\n",
       "\tTraining set & 0.0000 & 0.5193 & 0.4021 & -0.3820 &  4.7830 & 0.8155 & 0.3079\\\\\n",
       "\tTest set & 1.0175 & 1.0175 & 1.0175 & 10.7105 & 10.7105 & 2.0636 &     NA\\\\\n",
       "\\end{tabular}\n"
      ],
      "text/markdown": [
       "\n",
       "A matrix: 2 × 7 of type dbl\n",
       "\n",
       "| <!--/--> | ME | RMSE | MAE | MPE | MAPE | MASE | ACF1 |\n",
       "|---|---|---|---|---|---|---|---|\n",
       "| Training set | 0.0000 | 0.5193 | 0.4021 | -0.3820 |  4.7830 | 0.8155 | 0.3079 |\n",
       "| Test set | 1.0175 | 1.0175 | 1.0175 | 10.7105 | 10.7105 | 2.0636 |     NA |\n",
       "\n"
      ],
      "text/plain": [
       "             ME     RMSE   MAE    MPE     MAPE    MASE   ACF1  \n",
       "Training set 0.0000 0.5193 0.4021 -0.3820  4.7830 0.8155 0.3079\n",
       "Test set     1.0175 1.0175 1.0175 10.7105 10.7105 2.0636     NA"
      ]
     },
     "metadata": {},
     "output_type": "display_data"
    }
   ],
   "source": [
    "mean_acc<-accuracy(fcast.mean, test)\n",
    "mean_acc\n",
    "round(accuracy(fcast.mean, test),4)"
   ]
  },
  {
   "cell_type": "code",
   "execution_count": 51,
   "id": "d3922dcb",
   "metadata": {},
   "outputs": [
    {
     "data": {
      "image/png": "[encoded data removed]",
      "text/plain": [
       "Plot with title \"Forecasts from Mean\""
      ]
     },
     "metadata": {
      "image/png": {
       "height": 420,
       "width": 420
      }
     },
     "output_type": "display_data"
    }
   ],
   "source": [
    "plot(fcast.mean, col='blue', lwd=3)\n",
    "x <- c(time(train)[1], time(train)[length(train)])\n",
    "y <- c(mean(train), mean(train))\n",
    "lines(x, y, col='black', lwd=3)\n",
    "x <- as.vector(time(test))\n",
    "y <- test\n",
    "lines(x, y, col='red', lwd=3)"
   ]
  },
  {
   "cell_type": "code",
   "execution_count": 52,
   "id": "f99aba46",
   "metadata": {},
   "outputs": [
    {
     "data": {
      "image/png": "[encoded data removed]",
      "text/plain": [
       "Plot with title \"Forecasts from Mean\""
      ]
     },
     "metadata": {
      "image/png": {
       "height": 420,
       "width": 420
      }
     },
     "output_type": "display_data"
    }
   ],
   "source": [
    "plot(fcast.mean, col='blue', lwd=3, xlim=c(1980,2005))\n",
    "x <- c(time(train)[1], time(train)[length(train)])\n",
    "y <- c(mean(train), mean(train))\n",
    "lines(x, y, col='black', lwd=3)\n",
    "x <- as.vector(time(test))\n",
    "y <- test\n",
    "lines(x, y, col='red', lwd=3)"
   ]
  },
  {
   "cell_type": "markdown",
   "id": "92a252d1",
   "metadata": {},
   "source": [
    "### Forecast Using Naive Model"
   ]
  },
  {
   "cell_type": "code",
   "execution_count": 53,
   "id": "89bcf6be",
   "metadata": {},
   "outputs": [
    {
     "data": {
      "text/html": [
       "9.3"
      ],
      "text/latex": [
       "9.3"
      ],
      "text/markdown": [
       "9.3"
      ],
      "text/plain": [
       "[1] 9.3"
      ]
     },
     "metadata": {},
     "output_type": "display_data"
    }
   ],
   "source": [
    "train[length(train)]"
   ]
  },
  {
   "cell_type": "code",
   "execution_count": 54,
   "id": "87967f9c",
   "metadata": {},
   "outputs": [],
   "source": [
    "fcast.naive <- naive(train,h=12)"
   ]
  },
  {
   "cell_type": "code",
   "execution_count": 55,
   "id": "e2187bf5",
   "metadata": {},
   "outputs": [
    {
     "data": {
      "text/plain": [
       "     Point Forecast    Lo 80    Hi 80    Lo 95    Hi 95\n",
       "2004            9.3 8.518940 10.08106 8.105472 10.49453\n",
       "2005            9.3 8.195415 10.40459 7.610683 10.98932\n",
       "2006            9.3 7.947165 10.65284 7.231017 11.36898\n",
       "2007            9.3 7.737881 10.86212 6.910944 11.68906\n",
       "2008            9.3 7.553497 11.04650 6.628955 11.97105\n",
       "2009            9.3 7.386802 11.21320 6.374016 12.22598\n",
       "2010            9.3 7.233510 11.36649 6.139577 12.46042\n",
       "2011            9.3 7.090829 11.50917 5.921365 12.67863\n",
       "2012            9.3 6.956821 11.64318 5.716417 12.88358\n",
       "2013            9.3 6.830072 11.76993 5.522572 13.07743\n",
       "2014            9.3 6.709518 11.89048 5.338200 13.26180\n",
       "2015            9.3 6.594330 12.00567 5.162034 13.43797"
      ]
     },
     "metadata": {},
     "output_type": "display_data"
    }
   ],
   "source": [
    "fcast.naive"
   ]
  },
  {
   "cell_type": "code",
   "execution_count": 56,
   "id": "afeb338d",
   "metadata": {},
   "outputs": [
    {
     "data": {
      "text/html": [
       "<table class=\"dataframe\">\n",
       "<caption>A matrix: 2 × 7 of type dbl</caption>\n",
       "<thead>\n",
       "\t<tr><th></th><th scope=col>ME</th><th scope=col>RMSE</th><th scope=col>MAE</th><th scope=col>MPE</th><th scope=col>MAPE</th><th scope=col>MASE</th><th scope=col>ACF1</th></tr>\n",
       "</thead>\n",
       "<tbody>\n",
       "\t<tr><th scope=row>Training set</th><td>0.005031447</td><td>0.6094641</td><td>0.4930818</td><td>-0.2094051</td><td>5.856786</td><td>1.0000000</td><td>-0.5321403</td></tr>\n",
       "\t<tr><th scope=row>Test set</th><td>0.200000000</td><td>0.2000000</td><td>0.2000000</td><td> 2.1052632</td><td>2.105263</td><td>0.4056122</td><td>        NA</td></tr>\n",
       "</tbody>\n",
       "</table>\n"
      ],
      "text/latex": [
       "A matrix: 2 × 7 of type dbl\n",
       "\\begin{tabular}{r|lllllll}\n",
       "  & ME & RMSE & MAE & MPE & MAPE & MASE & ACF1\\\\\n",
       "\\hline\n",
       "\tTraining set & 0.005031447 & 0.6094641 & 0.4930818 & -0.2094051 & 5.856786 & 1.0000000 & -0.5321403\\\\\n",
       "\tTest set & 0.200000000 & 0.2000000 & 0.2000000 &  2.1052632 & 2.105263 & 0.4056122 &         NA\\\\\n",
       "\\end{tabular}\n"
      ],
      "text/markdown": [
       "\n",
       "A matrix: 2 × 7 of type dbl\n",
       "\n",
       "| <!--/--> | ME | RMSE | MAE | MPE | MAPE | MASE | ACF1 |\n",
       "|---|---|---|---|---|---|---|---|\n",
       "| Training set | 0.005031447 | 0.6094641 | 0.4930818 | -0.2094051 | 5.856786 | 1.0000000 | -0.5321403 |\n",
       "| Test set | 0.200000000 | 0.2000000 | 0.2000000 |  2.1052632 | 2.105263 | 0.4056122 |         NA |\n",
       "\n"
      ],
      "text/plain": [
       "             ME          RMSE      MAE       MPE        MAPE     MASE     \n",
       "Training set 0.005031447 0.6094641 0.4930818 -0.2094051 5.856786 1.0000000\n",
       "Test set     0.200000000 0.2000000 0.2000000  2.1052632 2.105263 0.4056122\n",
       "             ACF1      \n",
       "Training set -0.5321403\n",
       "Test set             NA"
      ]
     },
     "metadata": {},
     "output_type": "display_data"
    },
    {
     "data": {
      "text/html": [
       "<table class=\"dataframe\">\n",
       "<caption>A matrix: 2 × 7 of type dbl</caption>\n",
       "<thead>\n",
       "\t<tr><th></th><th scope=col>ME</th><th scope=col>RMSE</th><th scope=col>MAE</th><th scope=col>MPE</th><th scope=col>MAPE</th><th scope=col>MASE</th><th scope=col>ACF1</th></tr>\n",
       "</thead>\n",
       "<tbody>\n",
       "\t<tr><th scope=row>Training set</th><td>0.01</td><td>0.61</td><td>0.49</td><td>-0.21</td><td>5.86</td><td>1.00</td><td>-0.53</td></tr>\n",
       "\t<tr><th scope=row>Test set</th><td>0.20</td><td>0.20</td><td>0.20</td><td> 2.11</td><td>2.11</td><td>0.41</td><td>   NA</td></tr>\n",
       "</tbody>\n",
       "</table>\n"
      ],
      "text/latex": [
       "A matrix: 2 × 7 of type dbl\n",
       "\\begin{tabular}{r|lllllll}\n",
       "  & ME & RMSE & MAE & MPE & MAPE & MASE & ACF1\\\\\n",
       "\\hline\n",
       "\tTraining set & 0.01 & 0.61 & 0.49 & -0.21 & 5.86 & 1.00 & -0.53\\\\\n",
       "\tTest set & 0.20 & 0.20 & 0.20 &  2.11 & 2.11 & 0.41 &    NA\\\\\n",
       "\\end{tabular}\n"
      ],
      "text/markdown": [
       "\n",
       "A matrix: 2 × 7 of type dbl\n",
       "\n",
       "| <!--/--> | ME | RMSE | MAE | MPE | MAPE | MASE | ACF1 |\n",
       "|---|---|---|---|---|---|---|---|\n",
       "| Training set | 0.01 | 0.61 | 0.49 | -0.21 | 5.86 | 1.00 | -0.53 |\n",
       "| Test set | 0.20 | 0.20 | 0.20 |  2.11 | 2.11 | 0.41 |    NA |\n",
       "\n"
      ],
      "text/plain": [
       "             ME   RMSE MAE  MPE   MAPE MASE ACF1 \n",
       "Training set 0.01 0.61 0.49 -0.21 5.86 1.00 -0.53\n",
       "Test set     0.20 0.20 0.20  2.11 2.11 0.41    NA"
      ]
     },
     "metadata": {},
     "output_type": "display_data"
    }
   ],
   "source": [
    "naive_acc<-accuracy(fcast.naive, test)\n",
    "naive_acc\n",
    "round(accuracy(fcast.naive, test), 2)"
   ]
  },
  {
   "cell_type": "code",
   "execution_count": 57,
   "id": "1d5d081d",
   "metadata": {},
   "outputs": [
    {
     "data": {
      "image/png": "[encoded data removed]",
      "text/plain": [
       "Plot with title \"Forecasts from Naive method\""
      ]
     },
     "metadata": {
      "image/png": {
       "height": 420,
       "width": 420
      }
     },
     "output_type": "display_data"
    }
   ],
   "source": [
    "plot(fcast.naive, col='blue', lwd=3)\n",
    "x <- time(train)[length(train)]\n",
    "y <- train[length(train)]\n",
    "points(x, y, col='red', lwd=3)\n",
    "x <- as.vector(time(test))\n",
    "y <- test\n",
    "lines(x, y, col='red', lwd=3)"
   ]
  },
  {
   "cell_type": "code",
   "execution_count": 58,
   "id": "c9096c2b",
   "metadata": {},
   "outputs": [
    {
     "data": {
      "image/png": "[encoded data removed]",
      "text/plain": [
       "Plot with title \"Forecasts from Naive method\""
      ]
     },
     "metadata": {
      "image/png": {
       "height": 420,
       "width": 420
      }
     },
     "output_type": "display_data"
    }
   ],
   "source": [
    "plot(fcast.naive, col='blue', lwd=3, xlim=c(1980,2005))\n",
    "x <- time(train)[length(train)]\n",
    "y <- train[length(train)]\n",
    "points(x, y, col='red', lwd=3)\n",
    "x <- as.vector(time(test))\n",
    "y <- test\n",
    "lines(x, y, col='red', lwd=3)"
   ]
  },
  {
   "cell_type": "markdown",
   "id": "d91a59be",
   "metadata": {},
   "source": [
    "### Forecast Using Seasonal Naive Model"
   ]
  },
  {
   "cell_type": "code",
   "execution_count": 59,
   "id": "99ad4e40",
   "metadata": {},
   "outputs": [],
   "source": [
    "fcast.snaive <- snaive(train,h=12)"
   ]
  },
  {
   "cell_type": "code",
   "execution_count": 60,
   "id": "a6b7ddbd",
   "metadata": {},
   "outputs": [
    {
     "data": {
      "text/plain": [
       "     Point Forecast    Lo 80    Hi 80    Lo 95    Hi 95\n",
       "2004            9.3 8.518940 10.08106 8.105472 10.49453\n",
       "2005            9.3 8.195415 10.40459 7.610683 10.98932\n",
       "2006            9.3 7.947165 10.65284 7.231017 11.36898\n",
       "2007            9.3 7.737881 10.86212 6.910944 11.68906\n",
       "2008            9.3 7.553497 11.04650 6.628955 11.97105\n",
       "2009            9.3 7.386802 11.21320 6.374016 12.22598\n",
       "2010            9.3 7.233510 11.36649 6.139577 12.46042\n",
       "2011            9.3 7.090829 11.50917 5.921365 12.67863\n",
       "2012            9.3 6.956821 11.64318 5.716417 12.88358\n",
       "2013            9.3 6.830072 11.76993 5.522572 13.07743\n",
       "2014            9.3 6.709518 11.89048 5.338200 13.26180\n",
       "2015            9.3 6.594330 12.00567 5.162034 13.43797"
      ]
     },
     "metadata": {},
     "output_type": "display_data"
    }
   ],
   "source": [
    "fcast.snaive"
   ]
  },
  {
   "cell_type": "code",
   "execution_count": 61,
   "id": "14c238fc",
   "metadata": {},
   "outputs": [
    {
     "data": {
      "image/png": "[encoded data removed]",
      "text/plain": [
       "Plot with title \"Forecasts from Seasonal naive method\""
      ]
     },
     "metadata": {
      "image/png": {
       "height": 420,
       "width": 420
      }
     },
     "output_type": "display_data"
    }
   ],
   "source": [
    "plot(fcast.snaive, col='blue', lwd=3, xlim=c(1980,2005))\n",
    "x <- time(train)[seq(1980,2005)]\n",
    "y <- train[seq(1980,2005)]\n",
    "lines(x, y, col='red', lwd=3)\n",
    "x <- as.vector(time(test))\n",
    "y <- test\n",
    "lines(x, y, col='red', lwd=3)"
   ]
  },
  {
   "cell_type": "code",
   "execution_count": 62,
   "id": "aa641a4f",
   "metadata": {},
   "outputs": [
    {
     "data": {
      "text/html": [
       "<table class=\"dataframe\">\n",
       "<caption>A matrix: 2 × 7 of type dbl</caption>\n",
       "<thead>\n",
       "\t<tr><th></th><th scope=col>ME</th><th scope=col>RMSE</th><th scope=col>MAE</th><th scope=col>MPE</th><th scope=col>MAPE</th><th scope=col>MASE</th><th scope=col>ACF1</th></tr>\n",
       "</thead>\n",
       "<tbody>\n",
       "\t<tr><th scope=row>Training set</th><td>0.005031447</td><td>0.6094641</td><td>0.4930818</td><td>-0.2094051</td><td>5.856786</td><td>1.0000000</td><td>-0.5321403</td></tr>\n",
       "\t<tr><th scope=row>Test set</th><td>0.200000000</td><td>0.2000000</td><td>0.2000000</td><td> 2.1052632</td><td>2.105263</td><td>0.4056122</td><td>        NA</td></tr>\n",
       "</tbody>\n",
       "</table>\n"
      ],
      "text/latex": [
       "A matrix: 2 × 7 of type dbl\n",
       "\\begin{tabular}{r|lllllll}\n",
       "  & ME & RMSE & MAE & MPE & MAPE & MASE & ACF1\\\\\n",
       "\\hline\n",
       "\tTraining set & 0.005031447 & 0.6094641 & 0.4930818 & -0.2094051 & 5.856786 & 1.0000000 & -0.5321403\\\\\n",
       "\tTest set & 0.200000000 & 0.2000000 & 0.2000000 &  2.1052632 & 2.105263 & 0.4056122 &         NA\\\\\n",
       "\\end{tabular}\n"
      ],
      "text/markdown": [
       "\n",
       "A matrix: 2 × 7 of type dbl\n",
       "\n",
       "| <!--/--> | ME | RMSE | MAE | MPE | MAPE | MASE | ACF1 |\n",
       "|---|---|---|---|---|---|---|---|\n",
       "| Training set | 0.005031447 | 0.6094641 | 0.4930818 | -0.2094051 | 5.856786 | 1.0000000 | -0.5321403 |\n",
       "| Test set | 0.200000000 | 0.2000000 | 0.2000000 |  2.1052632 | 2.105263 | 0.4056122 |         NA |\n",
       "\n"
      ],
      "text/plain": [
       "             ME          RMSE      MAE       MPE        MAPE     MASE     \n",
       "Training set 0.005031447 0.6094641 0.4930818 -0.2094051 5.856786 1.0000000\n",
       "Test set     0.200000000 0.2000000 0.2000000  2.1052632 2.105263 0.4056122\n",
       "             ACF1      \n",
       "Training set -0.5321403\n",
       "Test set             NA"
      ]
     },
     "metadata": {},
     "output_type": "display_data"
    }
   ],
   "source": [
    "snaive_acc<-accuracy(fcast.snaive, test)\n",
    "snaive_acc"
   ]
  },
  {
   "cell_type": "markdown",
   "id": "8b3086e9",
   "metadata": {},
   "source": [
    "### Forecast Using Drift Method"
   ]
  },
  {
   "cell_type": "code",
   "execution_count": 63,
   "id": "7f931e07",
   "metadata": {},
   "outputs": [
    {
     "data": {
      "text/html": [
       "9.3"
      ],
      "text/latex": [
       "9.3"
      ],
      "text/markdown": [
       "9.3"
      ],
      "text/plain": [
       "[1] 9.3"
      ]
     },
     "metadata": {},
     "output_type": "display_data"
    }
   ],
   "source": [
    "y0 <- train[length(train)]\n",
    "y0"
   ]
  },
  {
   "cell_type": "code",
   "execution_count": 64,
   "id": "ed2b549d",
   "metadata": {},
   "outputs": [
    {
     "data": {
      "text/html": [
       "0.00503144654088051"
      ],
      "text/latex": [
       "0.00503144654088051"
      ],
      "text/markdown": [
       "0.00503144654088051"
      ],
      "text/plain": [
       "[1] 0.005031447"
      ]
     },
     "metadata": {},
     "output_type": "display_data"
    }
   ],
   "source": [
    "d <- (train[length(train)]-train[1])/(length(train)-1)\n",
    "d"
   ]
  },
  {
   "cell_type": "code",
   "execution_count": 65,
   "id": "d04e9b77",
   "metadata": {},
   "outputs": [],
   "source": [
    "fcast.drift <- rwf(train, h=12, drift=TRUE)"
   ]
  },
  {
   "cell_type": "code",
   "execution_count": 66,
   "id": "8d9473f9",
   "metadata": {},
   "outputs": [
    {
     "data": {
      "text/plain": [
       "     Point Forecast    Lo 80    Hi 80    Lo 95    Hi 95\n",
       "2004       9.305031 8.519071 10.09099 8.103008 10.50705\n",
       "2005       9.310063 8.195078 10.42505 7.604841 11.01528\n",
       "2006       9.315094 7.945288 10.68490 7.220157 11.41003\n",
       "2007       9.320126 7.733536 10.90672 6.893646 11.74661\n",
       "2008       9.325157 7.545863 11.10445 6.603961 12.04635\n",
       "2009       9.330189 7.375136 11.28524 6.340193 12.32018\n",
       "2010       9.335220 7.217132 11.45331 6.095884 12.57456\n",
       "2011       9.340252 7.069110 11.61139 5.866841 12.81366\n",
       "2012       9.345283 6.929172 11.76139 5.650161 13.04041\n",
       "2013       9.350314 6.795942 11.90469 5.443739 13.25689\n",
       "2014       9.355346 6.668383 12.04231 5.245990 13.46470\n",
       "2015       9.360377 6.545694 12.17506 5.055690 13.66506"
      ]
     },
     "metadata": {},
     "output_type": "display_data"
    }
   ],
   "source": [
    "fcast.drift"
   ]
  },
  {
   "cell_type": "code",
   "execution_count": 67,
   "id": "d1cad95c",
   "metadata": {},
   "outputs": [
    {
     "data": {
      "text/html": [
       "<table class=\"dataframe\">\n",
       "<caption>A matrix: 2 × 7 of type dbl</caption>\n",
       "<thead>\n",
       "\t<tr><th></th><th scope=col>ME</th><th scope=col>RMSE</th><th scope=col>MAE</th><th scope=col>MPE</th><th scope=col>MAPE</th><th scope=col>MASE</th><th scope=col>ACF1</th></tr>\n",
       "</thead>\n",
       "<tbody>\n",
       "\t<tr><th scope=row>Training set</th><td>-7.652821e-16</td><td>0.6094434</td><td>0.4935564</td><td>-0.2689495</td><td>5.864248</td><td>1.0009626</td><td>-0.5321403</td></tr>\n",
       "\t<tr><th scope=row>Test set</th><td> 1.949686e-01</td><td>0.1949686</td><td>0.1949686</td><td> 2.0523006</td><td>2.052301</td><td>0.3954082</td><td>        NA</td></tr>\n",
       "</tbody>\n",
       "</table>\n"
      ],
      "text/latex": [
       "A matrix: 2 × 7 of type dbl\n",
       "\\begin{tabular}{r|lllllll}\n",
       "  & ME & RMSE & MAE & MPE & MAPE & MASE & ACF1\\\\\n",
       "\\hline\n",
       "\tTraining set & -7.652821e-16 & 0.6094434 & 0.4935564 & -0.2689495 & 5.864248 & 1.0009626 & -0.5321403\\\\\n",
       "\tTest set &  1.949686e-01 & 0.1949686 & 0.1949686 &  2.0523006 & 2.052301 & 0.3954082 &         NA\\\\\n",
       "\\end{tabular}\n"
      ],
      "text/markdown": [
       "\n",
       "A matrix: 2 × 7 of type dbl\n",
       "\n",
       "| <!--/--> | ME | RMSE | MAE | MPE | MAPE | MASE | ACF1 |\n",
       "|---|---|---|---|---|---|---|---|\n",
       "| Training set | -7.652821e-16 | 0.6094434 | 0.4935564 | -0.2689495 | 5.864248 | 1.0009626 | -0.5321403 |\n",
       "| Test set |  1.949686e-01 | 0.1949686 | 0.1949686 |  2.0523006 | 2.052301 | 0.3954082 |         NA |\n",
       "\n"
      ],
      "text/plain": [
       "             ME            RMSE      MAE       MPE        MAPE     MASE     \n",
       "Training set -7.652821e-16 0.6094434 0.4935564 -0.2689495 5.864248 1.0009626\n",
       "Test set      1.949686e-01 0.1949686 0.1949686  2.0523006 2.052301 0.3954082\n",
       "             ACF1      \n",
       "Training set -0.5321403\n",
       "Test set             NA"
      ]
     },
     "metadata": {},
     "output_type": "display_data"
    },
    {
     "data": {
      "text/html": [
       "<table class=\"dataframe\">\n",
       "<caption>A matrix: 2 × 7 of type dbl</caption>\n",
       "<thead>\n",
       "\t<tr><th></th><th scope=col>ME</th><th scope=col>RMSE</th><th scope=col>MAE</th><th scope=col>MPE</th><th scope=col>MAPE</th><th scope=col>MASE</th><th scope=col>ACF1</th></tr>\n",
       "</thead>\n",
       "<tbody>\n",
       "\t<tr><th scope=row>Training set</th><td>0.00</td><td>0.61</td><td>0.49</td><td>-0.27</td><td>5.86</td><td>1.0</td><td>-0.53</td></tr>\n",
       "\t<tr><th scope=row>Test set</th><td>0.19</td><td>0.19</td><td>0.19</td><td> 2.05</td><td>2.05</td><td>0.4</td><td>   NA</td></tr>\n",
       "</tbody>\n",
       "</table>\n"
      ],
      "text/latex": [
       "A matrix: 2 × 7 of type dbl\n",
       "\\begin{tabular}{r|lllllll}\n",
       "  & ME & RMSE & MAE & MPE & MAPE & MASE & ACF1\\\\\n",
       "\\hline\n",
       "\tTraining set & 0.00 & 0.61 & 0.49 & -0.27 & 5.86 & 1.0 & -0.53\\\\\n",
       "\tTest set & 0.19 & 0.19 & 0.19 &  2.05 & 2.05 & 0.4 &    NA\\\\\n",
       "\\end{tabular}\n"
      ],
      "text/markdown": [
       "\n",
       "A matrix: 2 × 7 of type dbl\n",
       "\n",
       "| <!--/--> | ME | RMSE | MAE | MPE | MAPE | MASE | ACF1 |\n",
       "|---|---|---|---|---|---|---|---|\n",
       "| Training set | 0.00 | 0.61 | 0.49 | -0.27 | 5.86 | 1.0 | -0.53 |\n",
       "| Test set | 0.19 | 0.19 | 0.19 |  2.05 | 2.05 | 0.4 |    NA |\n",
       "\n"
      ],
      "text/plain": [
       "             ME   RMSE MAE  MPE   MAPE MASE ACF1 \n",
       "Training set 0.00 0.61 0.49 -0.27 5.86 1.0  -0.53\n",
       "Test set     0.19 0.19 0.19  2.05 2.05 0.4     NA"
      ]
     },
     "metadata": {},
     "output_type": "display_data"
    }
   ],
   "source": [
    "drift_acc<-accuracy(fcast.drift, test)\n",
    "drift_acc\n",
    "round(accuracy(fcast.drift, test),2)"
   ]
  },
  {
   "cell_type": "code",
   "execution_count": 68,
   "id": "ca9c8089",
   "metadata": {
    "scrolled": true
   },
   "outputs": [
    {
     "data": {
      "image/png": "[encoded data removed]",
      "text/plain": [
       "Plot with title \"Forecasts from Random walk with drift\""
      ]
     },
     "metadata": {
      "image/png": {
       "height": 420,
       "width": 420
      }
     },
     "output_type": "display_data"
    }
   ],
   "source": [
    "plot(fcast.drift, col='blue', lwd=3, xlim=c(1980,2005))\n",
    "x <- c(time(test)[1], time(test)[length(test)])\n",
    "y0 <- train[length(train)]\n",
    "y <- c(y0+d, y0+d*length(test))\n",
    "lines(x, y, col='red', lwd=3)\n",
    "x <- c(time(train)[1], time(train)[length(train)])\n",
    "y <- c(train[1], train[length(train)])\n",
    "lines(x, y, col='black', lwd=3)"
   ]
  },
  {
   "cell_type": "markdown",
   "id": "c9c58791",
   "metadata": {},
   "source": [
    "#### Comparing Simple models"
   ]
  },
  {
   "cell_type": "code",
   "execution_count": 69,
   "id": "20336fdd",
   "metadata": {},
   "outputs": [
    {
     "data": {
      "text/html": [
       "<table class=\"dataframe\">\n",
       "<caption>A matrix: 2 × 7 of type dbl</caption>\n",
       "<thead>\n",
       "\t<tr><th></th><th scope=col>ME</th><th scope=col>RMSE</th><th scope=col>MAE</th><th scope=col>MPE</th><th scope=col>MAPE</th><th scope=col>MASE</th><th scope=col>ACF1</th></tr>\n",
       "</thead>\n",
       "<tbody>\n",
       "\t<tr><th scope=row>Training set</th><td>1.099076e-17</td><td>0.5193205</td><td>0.402125</td><td>-0.3820398</td><td> 4.783021</td><td>0.8155341</td><td>0.3079116</td></tr>\n",
       "\t<tr><th scope=row>Test set</th><td>1.017500e+00</td><td>1.0175000</td><td>1.017500</td><td>10.7105263</td><td>10.710526</td><td>2.0635523</td><td>       NA</td></tr>\n",
       "</tbody>\n",
       "</table>\n"
      ],
      "text/latex": [
       "A matrix: 2 × 7 of type dbl\n",
       "\\begin{tabular}{r|lllllll}\n",
       "  & ME & RMSE & MAE & MPE & MAPE & MASE & ACF1\\\\\n",
       "\\hline\n",
       "\tTraining set & 1.099076e-17 & 0.5193205 & 0.402125 & -0.3820398 &  4.783021 & 0.8155341 & 0.3079116\\\\\n",
       "\tTest set & 1.017500e+00 & 1.0175000 & 1.017500 & 10.7105263 & 10.710526 & 2.0635523 &        NA\\\\\n",
       "\\end{tabular}\n"
      ],
      "text/markdown": [
       "\n",
       "A matrix: 2 × 7 of type dbl\n",
       "\n",
       "| <!--/--> | ME | RMSE | MAE | MPE | MAPE | MASE | ACF1 |\n",
       "|---|---|---|---|---|---|---|---|\n",
       "| Training set | 1.099076e-17 | 0.5193205 | 0.402125 | -0.3820398 |  4.783021 | 0.8155341 | 0.3079116 |\n",
       "| Test set | 1.017500e+00 | 1.0175000 | 1.017500 | 10.7105263 | 10.710526 | 2.0635523 |        NA |\n",
       "\n"
      ],
      "text/plain": [
       "             ME           RMSE      MAE      MPE        MAPE      MASE     \n",
       "Training set 1.099076e-17 0.5193205 0.402125 -0.3820398  4.783021 0.8155341\n",
       "Test set     1.017500e+00 1.0175000 1.017500 10.7105263 10.710526 2.0635523\n",
       "             ACF1     \n",
       "Training set 0.3079116\n",
       "Test set            NA"
      ]
     },
     "metadata": {},
     "output_type": "display_data"
    },
    {
     "data": {
      "text/html": [
       "<table class=\"dataframe\">\n",
       "<caption>A matrix: 2 × 7 of type dbl</caption>\n",
       "<thead>\n",
       "\t<tr><th></th><th scope=col>ME</th><th scope=col>RMSE</th><th scope=col>MAE</th><th scope=col>MPE</th><th scope=col>MAPE</th><th scope=col>MASE</th><th scope=col>ACF1</th></tr>\n",
       "</thead>\n",
       "<tbody>\n",
       "\t<tr><th scope=row>Training set</th><td>0.005031447</td><td>0.6094641</td><td>0.4930818</td><td>-0.2094051</td><td>5.856786</td><td>1.0000000</td><td>-0.5321403</td></tr>\n",
       "\t<tr><th scope=row>Test set</th><td>0.200000000</td><td>0.2000000</td><td>0.2000000</td><td> 2.1052632</td><td>2.105263</td><td>0.4056122</td><td>        NA</td></tr>\n",
       "</tbody>\n",
       "</table>\n"
      ],
      "text/latex": [
       "A matrix: 2 × 7 of type dbl\n",
       "\\begin{tabular}{r|lllllll}\n",
       "  & ME & RMSE & MAE & MPE & MAPE & MASE & ACF1\\\\\n",
       "\\hline\n",
       "\tTraining set & 0.005031447 & 0.6094641 & 0.4930818 & -0.2094051 & 5.856786 & 1.0000000 & -0.5321403\\\\\n",
       "\tTest set & 0.200000000 & 0.2000000 & 0.2000000 &  2.1052632 & 2.105263 & 0.4056122 &         NA\\\\\n",
       "\\end{tabular}\n"
      ],
      "text/markdown": [
       "\n",
       "A matrix: 2 × 7 of type dbl\n",
       "\n",
       "| <!--/--> | ME | RMSE | MAE | MPE | MAPE | MASE | ACF1 |\n",
       "|---|---|---|---|---|---|---|---|\n",
       "| Training set | 0.005031447 | 0.6094641 | 0.4930818 | -0.2094051 | 5.856786 | 1.0000000 | -0.5321403 |\n",
       "| Test set | 0.200000000 | 0.2000000 | 0.2000000 |  2.1052632 | 2.105263 | 0.4056122 |         NA |\n",
       "\n"
      ],
      "text/plain": [
       "             ME          RMSE      MAE       MPE        MAPE     MASE     \n",
       "Training set 0.005031447 0.6094641 0.4930818 -0.2094051 5.856786 1.0000000\n",
       "Test set     0.200000000 0.2000000 0.2000000  2.1052632 2.105263 0.4056122\n",
       "             ACF1      \n",
       "Training set -0.5321403\n",
       "Test set             NA"
      ]
     },
     "metadata": {},
     "output_type": "display_data"
    },
    {
     "data": {
      "text/html": [
       "<table class=\"dataframe\">\n",
       "<caption>A matrix: 2 × 7 of type dbl</caption>\n",
       "<thead>\n",
       "\t<tr><th></th><th scope=col>ME</th><th scope=col>RMSE</th><th scope=col>MAE</th><th scope=col>MPE</th><th scope=col>MAPE</th><th scope=col>MASE</th><th scope=col>ACF1</th></tr>\n",
       "</thead>\n",
       "<tbody>\n",
       "\t<tr><th scope=row>Training set</th><td>0.005031447</td><td>0.6094641</td><td>0.4930818</td><td>-0.2094051</td><td>5.856786</td><td>1.0000000</td><td>-0.5321403</td></tr>\n",
       "\t<tr><th scope=row>Test set</th><td>0.200000000</td><td>0.2000000</td><td>0.2000000</td><td> 2.1052632</td><td>2.105263</td><td>0.4056122</td><td>        NA</td></tr>\n",
       "</tbody>\n",
       "</table>\n"
      ],
      "text/latex": [
       "A matrix: 2 × 7 of type dbl\n",
       "\\begin{tabular}{r|lllllll}\n",
       "  & ME & RMSE & MAE & MPE & MAPE & MASE & ACF1\\\\\n",
       "\\hline\n",
       "\tTraining set & 0.005031447 & 0.6094641 & 0.4930818 & -0.2094051 & 5.856786 & 1.0000000 & -0.5321403\\\\\n",
       "\tTest set & 0.200000000 & 0.2000000 & 0.2000000 &  2.1052632 & 2.105263 & 0.4056122 &         NA\\\\\n",
       "\\end{tabular}\n"
      ],
      "text/markdown": [
       "\n",
       "A matrix: 2 × 7 of type dbl\n",
       "\n",
       "| <!--/--> | ME | RMSE | MAE | MPE | MAPE | MASE | ACF1 |\n",
       "|---|---|---|---|---|---|---|---|\n",
       "| Training set | 0.005031447 | 0.6094641 | 0.4930818 | -0.2094051 | 5.856786 | 1.0000000 | -0.5321403 |\n",
       "| Test set | 0.200000000 | 0.2000000 | 0.2000000 |  2.1052632 | 2.105263 | 0.4056122 |         NA |\n",
       "\n"
      ],
      "text/plain": [
       "             ME          RMSE      MAE       MPE        MAPE     MASE     \n",
       "Training set 0.005031447 0.6094641 0.4930818 -0.2094051 5.856786 1.0000000\n",
       "Test set     0.200000000 0.2000000 0.2000000  2.1052632 2.105263 0.4056122\n",
       "             ACF1      \n",
       "Training set -0.5321403\n",
       "Test set             NA"
      ]
     },
     "metadata": {},
     "output_type": "display_data"
    },
    {
     "data": {
      "text/html": [
       "<table class=\"dataframe\">\n",
       "<caption>A matrix: 2 × 7 of type dbl</caption>\n",
       "<thead>\n",
       "\t<tr><th></th><th scope=col>ME</th><th scope=col>RMSE</th><th scope=col>MAE</th><th scope=col>MPE</th><th scope=col>MAPE</th><th scope=col>MASE</th><th scope=col>ACF1</th></tr>\n",
       "</thead>\n",
       "<tbody>\n",
       "\t<tr><th scope=row>Training set</th><td>-7.652821e-16</td><td>0.6094434</td><td>0.4935564</td><td>-0.2689495</td><td>5.864248</td><td>1.0009626</td><td>-0.5321403</td></tr>\n",
       "\t<tr><th scope=row>Test set</th><td> 1.949686e-01</td><td>0.1949686</td><td>0.1949686</td><td> 2.0523006</td><td>2.052301</td><td>0.3954082</td><td>        NA</td></tr>\n",
       "</tbody>\n",
       "</table>\n"
      ],
      "text/latex": [
       "A matrix: 2 × 7 of type dbl\n",
       "\\begin{tabular}{r|lllllll}\n",
       "  & ME & RMSE & MAE & MPE & MAPE & MASE & ACF1\\\\\n",
       "\\hline\n",
       "\tTraining set & -7.652821e-16 & 0.6094434 & 0.4935564 & -0.2689495 & 5.864248 & 1.0009626 & -0.5321403\\\\\n",
       "\tTest set &  1.949686e-01 & 0.1949686 & 0.1949686 &  2.0523006 & 2.052301 & 0.3954082 &         NA\\\\\n",
       "\\end{tabular}\n"
      ],
      "text/markdown": [
       "\n",
       "A matrix: 2 × 7 of type dbl\n",
       "\n",
       "| <!--/--> | ME | RMSE | MAE | MPE | MAPE | MASE | ACF1 |\n",
       "|---|---|---|---|---|---|---|---|\n",
       "| Training set | -7.652821e-16 | 0.6094434 | 0.4935564 | -0.2689495 | 5.864248 | 1.0009626 | -0.5321403 |\n",
       "| Test set |  1.949686e-01 | 0.1949686 | 0.1949686 |  2.0523006 | 2.052301 | 0.3954082 |         NA |\n",
       "\n"
      ],
      "text/plain": [
       "             ME            RMSE      MAE       MPE        MAPE     MASE     \n",
       "Training set -7.652821e-16 0.6094434 0.4935564 -0.2689495 5.864248 1.0009626\n",
       "Test set      1.949686e-01 0.1949686 0.1949686  2.0523006 2.052301 0.3954082\n",
       "             ACF1      \n",
       "Training set -0.5321403\n",
       "Test set             NA"
      ]
     },
     "metadata": {},
     "output_type": "display_data"
    }
   ],
   "source": [
    "mean_acc #Forecast Using the Mean Model\n",
    "naive_acc #Forecast Using Naive Model\n",
    "snaive_acc #Forecast Using Seasonal Naive Model\n",
    "drift_acc #Forecast Using Drift Method"
   ]
  },
  {
   "cell_type": "markdown",
   "id": "e1d7d2c8",
   "metadata": {},
   "source": [
    "## ARIMA"
   ]
  },
  {
   "cell_type": "code",
   "execution_count": 70,
   "id": "9ce6656c",
   "metadata": {},
   "outputs": [
    {
     "data": {
      "text/plain": [
       "Series: train \n",
       "ARIMA(0,1,1) \n",
       "\n",
       "Coefficients:\n",
       "          ma1\n",
       "      -0.8274\n",
       "s.e.   0.0412\n",
       "\n",
       "sigma^2 = 0.2149:  log likelihood = -103.46\n",
       "AIC=210.93   AICc=211   BIC=217.06"
      ]
     },
     "metadata": {},
     "output_type": "display_data"
    }
   ],
   "source": [
    "am <- auto.arima(train)\n",
    "am"
   ]
  },
  {
   "cell_type": "code",
   "execution_count": 71,
   "id": "cff36618",
   "metadata": {
    "scrolled": true
   },
   "outputs": [
    {
     "data": {
      "text/plain": [
       "     Point Forecast    Lo 80    Hi 80    Lo 95    Hi 95\n",
       "2004       9.154549 8.560402 9.748696 8.245879 10.06322\n",
       "2005       9.154549 8.551612 9.757486 8.232436 10.07666\n",
       "2006       9.154549 8.542948 9.766150 8.219186 10.08991\n",
       "2007       9.154549 8.534405 9.774693 8.206121 10.10298\n",
       "2008       9.154549 8.525979 9.783120 8.193233 10.11586\n",
       "2009       9.154549 8.517663 9.791435 8.180516 10.12858\n",
       "2010       9.154549 8.509455 9.799643 8.167963 10.14113\n",
       "2011       9.154549 8.501350 9.807748 8.155568 10.15353\n",
       "2012       9.154549 8.493345 9.815753 8.143325 10.16577\n",
       "2013       9.154549 8.485435 9.823663 8.131228 10.17787\n",
       "2014       9.154549 8.477618 9.831480 8.119272 10.18983\n",
       "2015       9.154549 8.469890 9.839208 8.107453 10.20165"
      ]
     },
     "metadata": {},
     "output_type": "display_data"
    }
   ],
   "source": [
    "fam <- forecast(am, h=12)\n",
    "fam"
   ]
  },
  {
   "cell_type": "code",
   "execution_count": 73,
   "id": "533d3d6c",
   "metadata": {
    "scrolled": true
   },
   "outputs": [
    {
     "data": {
      "text/html": [
       "<table class=\"dataframe\">\n",
       "<caption>A matrix: 2 × 7 of type dbl</caption>\n",
       "<thead>\n",
       "\t<tr><th></th><th scope=col>ME</th><th scope=col>RMSE</th><th scope=col>MAE</th><th scope=col>MPE</th><th scope=col>MAPE</th><th scope=col>MASE</th><th scope=col>ACF1</th></tr>\n",
       "</thead>\n",
       "<tbody>\n",
       "\t<tr><th scope=row>Training set</th><td>0.01802921</td><td>0.4607088</td><td>0.3507608</td><td>-0.07201756</td><td>4.165348</td><td>0.7113643</td><td>-0.03212209</td></tr>\n",
       "\t<tr><th scope=row>Test set</th><td>0.34545093</td><td>0.3454509</td><td>0.3454509</td><td> 3.63632558</td><td>3.636326</td><td>0.7005956</td><td>         NA</td></tr>\n",
       "</tbody>\n",
       "</table>\n"
      ],
      "text/latex": [
       "A matrix: 2 × 7 of type dbl\n",
       "\\begin{tabular}{r|lllllll}\n",
       "  & ME & RMSE & MAE & MPE & MAPE & MASE & ACF1\\\\\n",
       "\\hline\n",
       "\tTraining set & 0.01802921 & 0.4607088 & 0.3507608 & -0.07201756 & 4.165348 & 0.7113643 & -0.03212209\\\\\n",
       "\tTest set & 0.34545093 & 0.3454509 & 0.3454509 &  3.63632558 & 3.636326 & 0.7005956 &          NA\\\\\n",
       "\\end{tabular}\n"
      ],
      "text/markdown": [
       "\n",
       "A matrix: 2 × 7 of type dbl\n",
       "\n",
       "| <!--/--> | ME | RMSE | MAE | MPE | MAPE | MASE | ACF1 |\n",
       "|---|---|---|---|---|---|---|---|\n",
       "| Training set | 0.01802921 | 0.4607088 | 0.3507608 | -0.07201756 | 4.165348 | 0.7113643 | -0.03212209 |\n",
       "| Test set | 0.34545093 | 0.3454509 | 0.3454509 |  3.63632558 | 3.636326 | 0.7005956 |          NA |\n",
       "\n"
      ],
      "text/plain": [
       "             ME         RMSE      MAE       MPE         MAPE     MASE     \n",
       "Training set 0.01802921 0.4607088 0.3507608 -0.07201756 4.165348 0.7113643\n",
       "Test set     0.34545093 0.3454509 0.3454509  3.63632558 3.636326 0.7005956\n",
       "             ACF1       \n",
       "Training set -0.03212209\n",
       "Test set              NA"
      ]
     },
     "metadata": {},
     "output_type": "display_data"
    }
   ],
   "source": [
    "arima_acc<-accuracy(fam, test)\n",
    "arima_acc"
   ]
  },
  {
   "cell_type": "markdown",
   "id": "10d6a2ae",
   "metadata": {},
   "source": [
    "## Comparing Best models"
   ]
  },
  {
   "cell_type": "code",
   "execution_count": 74,
   "id": "e4d691d6",
   "metadata": {},
   "outputs": [
    {
     "data": {
      "text/html": [
       "<table class=\"dataframe\">\n",
       "<caption>A matrix: 2 × 7 of type dbl</caption>\n",
       "<thead>\n",
       "\t<tr><th></th><th scope=col>ME</th><th scope=col>RMSE</th><th scope=col>MAE</th><th scope=col>MPE</th><th scope=col>MAPE</th><th scope=col>MASE</th><th scope=col>ACF1</th></tr>\n",
       "</thead>\n",
       "<tbody>\n",
       "\t<tr><th scope=row>Training set</th><td>0.01652178</td><td>0.4571036</td><td>0.3516667</td><td>-0.07618898</td><td>4.175121</td><td>0.7132016</td><td>0.02915575</td></tr>\n",
       "\t<tr><th scope=row>Test set</th><td>0.21683338</td><td>0.2168334</td><td>0.2168334</td><td> 2.28245668</td><td>2.282457</td><td>0.4397514</td><td>        NA</td></tr>\n",
       "</tbody>\n",
       "</table>\n"
      ],
      "text/latex": [
       "A matrix: 2 × 7 of type dbl\n",
       "\\begin{tabular}{r|lllllll}\n",
       "  & ME & RMSE & MAE & MPE & MAPE & MASE & ACF1\\\\\n",
       "\\hline\n",
       "\tTraining set & 0.01652178 & 0.4571036 & 0.3516667 & -0.07618898 & 4.175121 & 0.7132016 & 0.02915575\\\\\n",
       "\tTest set & 0.21683338 & 0.2168334 & 0.2168334 &  2.28245668 & 2.282457 & 0.4397514 &         NA\\\\\n",
       "\\end{tabular}\n"
      ],
      "text/markdown": [
       "\n",
       "A matrix: 2 × 7 of type dbl\n",
       "\n",
       "| <!--/--> | ME | RMSE | MAE | MPE | MAPE | MASE | ACF1 |\n",
       "|---|---|---|---|---|---|---|---|\n",
       "| Training set | 0.01652178 | 0.4571036 | 0.3516667 | -0.07618898 | 4.175121 | 0.7132016 | 0.02915575 |\n",
       "| Test set | 0.21683338 | 0.2168334 | 0.2168334 |  2.28245668 | 2.282457 | 0.4397514 |         NA |\n",
       "\n"
      ],
      "text/plain": [
       "             ME         RMSE      MAE       MPE         MAPE     MASE     \n",
       "Training set 0.01652178 0.4571036 0.3516667 -0.07618898 4.175121 0.7132016\n",
       "Test set     0.21683338 0.2168334 0.2168334  2.28245668 2.282457 0.4397514\n",
       "             ACF1      \n",
       "Training set 0.02915575\n",
       "Test set             NA"
      ]
     },
     "metadata": {},
     "output_type": "display_data"
    },
    {
     "data": {
      "text/html": [
       "<table class=\"dataframe\">\n",
       "<caption>A matrix: 2 × 7 of type dbl</caption>\n",
       "<thead>\n",
       "\t<tr><th></th><th scope=col>ME</th><th scope=col>RMSE</th><th scope=col>MAE</th><th scope=col>MPE</th><th scope=col>MAPE</th><th scope=col>MASE</th><th scope=col>ACF1</th></tr>\n",
       "</thead>\n",
       "<tbody>\n",
       "\t<tr><th scope=row>Training set</th><td>0.005031447</td><td>0.6094641</td><td>0.4930818</td><td>-0.2094051</td><td>5.856786</td><td>1.0000000</td><td>-0.5321403</td></tr>\n",
       "\t<tr><th scope=row>Test set</th><td>0.200000000</td><td>0.2000000</td><td>0.2000000</td><td> 2.1052632</td><td>2.105263</td><td>0.4056122</td><td>        NA</td></tr>\n",
       "</tbody>\n",
       "</table>\n"
      ],
      "text/latex": [
       "A matrix: 2 × 7 of type dbl\n",
       "\\begin{tabular}{r|lllllll}\n",
       "  & ME & RMSE & MAE & MPE & MAPE & MASE & ACF1\\\\\n",
       "\\hline\n",
       "\tTraining set & 0.005031447 & 0.6094641 & 0.4930818 & -0.2094051 & 5.856786 & 1.0000000 & -0.5321403\\\\\n",
       "\tTest set & 0.200000000 & 0.2000000 & 0.2000000 &  2.1052632 & 2.105263 & 0.4056122 &         NA\\\\\n",
       "\\end{tabular}\n"
      ],
      "text/markdown": [
       "\n",
       "A matrix: 2 × 7 of type dbl\n",
       "\n",
       "| <!--/--> | ME | RMSE | MAE | MPE | MAPE | MASE | ACF1 |\n",
       "|---|---|---|---|---|---|---|---|\n",
       "| Training set | 0.005031447 | 0.6094641 | 0.4930818 | -0.2094051 | 5.856786 | 1.0000000 | -0.5321403 |\n",
       "| Test set | 0.200000000 | 0.2000000 | 0.2000000 |  2.1052632 | 2.105263 | 0.4056122 |         NA |\n",
       "\n"
      ],
      "text/plain": [
       "             ME          RMSE      MAE       MPE        MAPE     MASE     \n",
       "Training set 0.005031447 0.6094641 0.4930818 -0.2094051 5.856786 1.0000000\n",
       "Test set     0.200000000 0.2000000 0.2000000  2.1052632 2.105263 0.4056122\n",
       "             ACF1      \n",
       "Training set -0.5321403\n",
       "Test set             NA"
      ]
     },
     "metadata": {},
     "output_type": "display_data"
    },
    {
     "data": {
      "text/html": [
       "<table class=\"dataframe\">\n",
       "<caption>A matrix: 2 × 7 of type dbl</caption>\n",
       "<thead>\n",
       "\t<tr><th></th><th scope=col>ME</th><th scope=col>RMSE</th><th scope=col>MAE</th><th scope=col>MPE</th><th scope=col>MAPE</th><th scope=col>MASE</th><th scope=col>ACF1</th></tr>\n",
       "</thead>\n",
       "<tbody>\n",
       "\t<tr><th scope=row>Training set</th><td>0.005031447</td><td>0.6094641</td><td>0.4930818</td><td>-0.2094051</td><td>5.856786</td><td>1.0000000</td><td>-0.5321403</td></tr>\n",
       "\t<tr><th scope=row>Test set</th><td>0.200000000</td><td>0.2000000</td><td>0.2000000</td><td> 2.1052632</td><td>2.105263</td><td>0.4056122</td><td>        NA</td></tr>\n",
       "</tbody>\n",
       "</table>\n"
      ],
      "text/latex": [
       "A matrix: 2 × 7 of type dbl\n",
       "\\begin{tabular}{r|lllllll}\n",
       "  & ME & RMSE & MAE & MPE & MAPE & MASE & ACF1\\\\\n",
       "\\hline\n",
       "\tTraining set & 0.005031447 & 0.6094641 & 0.4930818 & -0.2094051 & 5.856786 & 1.0000000 & -0.5321403\\\\\n",
       "\tTest set & 0.200000000 & 0.2000000 & 0.2000000 &  2.1052632 & 2.105263 & 0.4056122 &         NA\\\\\n",
       "\\end{tabular}\n"
      ],
      "text/markdown": [
       "\n",
       "A matrix: 2 × 7 of type dbl\n",
       "\n",
       "| <!--/--> | ME | RMSE | MAE | MPE | MAPE | MASE | ACF1 |\n",
       "|---|---|---|---|---|---|---|---|\n",
       "| Training set | 0.005031447 | 0.6094641 | 0.4930818 | -0.2094051 | 5.856786 | 1.0000000 | -0.5321403 |\n",
       "| Test set | 0.200000000 | 0.2000000 | 0.2000000 |  2.1052632 | 2.105263 | 0.4056122 |         NA |\n",
       "\n"
      ],
      "text/plain": [
       "             ME          RMSE      MAE       MPE        MAPE     MASE     \n",
       "Training set 0.005031447 0.6094641 0.4930818 -0.2094051 5.856786 1.0000000\n",
       "Test set     0.200000000 0.2000000 0.2000000  2.1052632 2.105263 0.4056122\n",
       "             ACF1      \n",
       "Training set -0.5321403\n",
       "Test set             NA"
      ]
     },
     "metadata": {},
     "output_type": "display_data"
    },
    {
     "data": {
      "text/html": [
       "<table class=\"dataframe\">\n",
       "<caption>A matrix: 2 × 7 of type dbl</caption>\n",
       "<thead>\n",
       "\t<tr><th></th><th scope=col>ME</th><th scope=col>RMSE</th><th scope=col>MAE</th><th scope=col>MPE</th><th scope=col>MAPE</th><th scope=col>MASE</th><th scope=col>ACF1</th></tr>\n",
       "</thead>\n",
       "<tbody>\n",
       "\t<tr><th scope=row>Training set</th><td>-7.652821e-16</td><td>0.6094434</td><td>0.4935564</td><td>-0.2689495</td><td>5.864248</td><td>1.0009626</td><td>-0.5321403</td></tr>\n",
       "\t<tr><th scope=row>Test set</th><td> 1.949686e-01</td><td>0.1949686</td><td>0.1949686</td><td> 2.0523006</td><td>2.052301</td><td>0.3954082</td><td>        NA</td></tr>\n",
       "</tbody>\n",
       "</table>\n"
      ],
      "text/latex": [
       "A matrix: 2 × 7 of type dbl\n",
       "\\begin{tabular}{r|lllllll}\n",
       "  & ME & RMSE & MAE & MPE & MAPE & MASE & ACF1\\\\\n",
       "\\hline\n",
       "\tTraining set & -7.652821e-16 & 0.6094434 & 0.4935564 & -0.2689495 & 5.864248 & 1.0009626 & -0.5321403\\\\\n",
       "\tTest set &  1.949686e-01 & 0.1949686 & 0.1949686 &  2.0523006 & 2.052301 & 0.3954082 &         NA\\\\\n",
       "\\end{tabular}\n"
      ],
      "text/markdown": [
       "\n",
       "A matrix: 2 × 7 of type dbl\n",
       "\n",
       "| <!--/--> | ME | RMSE | MAE | MPE | MAPE | MASE | ACF1 |\n",
       "|---|---|---|---|---|---|---|---|\n",
       "| Training set | -7.652821e-16 | 0.6094434 | 0.4935564 | -0.2689495 | 5.864248 | 1.0009626 | -0.5321403 |\n",
       "| Test set |  1.949686e-01 | 0.1949686 | 0.1949686 |  2.0523006 | 2.052301 | 0.3954082 |         NA |\n",
       "\n"
      ],
      "text/plain": [
       "             ME            RMSE      MAE       MPE        MAPE     MASE     \n",
       "Training set -7.652821e-16 0.6094434 0.4935564 -0.2689495 5.864248 1.0009626\n",
       "Test set      1.949686e-01 0.1949686 0.1949686  2.0523006 2.052301 0.3954082\n",
       "             ACF1      \n",
       "Training set -0.5321403\n",
       "Test set             NA"
      ]
     },
     "metadata": {},
     "output_type": "display_data"
    },
    {
     "data": {
      "text/html": [
       "<table class=\"dataframe\">\n",
       "<caption>A matrix: 2 × 7 of type dbl</caption>\n",
       "<thead>\n",
       "\t<tr><th></th><th scope=col>ME</th><th scope=col>RMSE</th><th scope=col>MAE</th><th scope=col>MPE</th><th scope=col>MAPE</th><th scope=col>MASE</th><th scope=col>ACF1</th></tr>\n",
       "</thead>\n",
       "<tbody>\n",
       "\t<tr><th scope=row>Training set</th><td>0.01802921</td><td>0.4607088</td><td>0.3507608</td><td>-0.07201756</td><td>4.165348</td><td>0.7113643</td><td>-0.03212209</td></tr>\n",
       "\t<tr><th scope=row>Test set</th><td>0.34545093</td><td>0.3454509</td><td>0.3454509</td><td> 3.63632558</td><td>3.636326</td><td>0.7005956</td><td>         NA</td></tr>\n",
       "</tbody>\n",
       "</table>\n"
      ],
      "text/latex": [
       "A matrix: 2 × 7 of type dbl\n",
       "\\begin{tabular}{r|lllllll}\n",
       "  & ME & RMSE & MAE & MPE & MAPE & MASE & ACF1\\\\\n",
       "\\hline\n",
       "\tTraining set & 0.01802921 & 0.4607088 & 0.3507608 & -0.07201756 & 4.165348 & 0.7113643 & -0.03212209\\\\\n",
       "\tTest set & 0.34545093 & 0.3454509 & 0.3454509 &  3.63632558 & 3.636326 & 0.7005956 &          NA\\\\\n",
       "\\end{tabular}\n"
      ],
      "text/markdown": [
       "\n",
       "A matrix: 2 × 7 of type dbl\n",
       "\n",
       "| <!--/--> | ME | RMSE | MAE | MPE | MAPE | MASE | ACF1 |\n",
       "|---|---|---|---|---|---|---|---|\n",
       "| Training set | 0.01802921 | 0.4607088 | 0.3507608 | -0.07201756 | 4.165348 | 0.7113643 | -0.03212209 |\n",
       "| Test set | 0.34545093 | 0.3454509 | 0.3454509 |  3.63632558 | 3.636326 | 0.7005956 |          NA |\n",
       "\n"
      ],
      "text/plain": [
       "             ME         RMSE      MAE       MPE         MAPE     MASE     \n",
       "Training set 0.01802921 0.4607088 0.3507608 -0.07201756 4.165348 0.7113643\n",
       "Test set     0.34545093 0.3454509 0.3454509  3.63632558 3.636326 0.7005956\n",
       "             ACF1       \n",
       "Training set -0.03212209\n",
       "Test set              NA"
      ]
     },
     "metadata": {},
     "output_type": "display_data"
    }
   ],
   "source": [
    "etsT_acc #Ets AAN Trend only\n",
    "naive_acc #Forecast Using Naive Model\n",
    "snaive_acc #Forecast Using Seasonal Naive Model\n",
    "drift_acc #Forecast Using Drift Method\n",
    "arima_acc #ARIMA model"
   ]
  },
  {
   "cell_type": "code",
   "execution_count": null,
   "id": "0b6b5496",
   "metadata": {},
   "outputs": [],
   "source": []
  },
  {
   "cell_type": "code",
   "execution_count": null,
   "id": "f733d197",
   "metadata": {},
   "outputs": [],
   "source": []
  },
  {
   "cell_type": "code",
   "execution_count": null,
   "id": "d5614e95",
   "metadata": {},
   "outputs": [],
   "source": []
  },
  {
   "cell_type": "code",
   "execution_count": null,
   "id": "18bf9572",
   "metadata": {},
   "outputs": [],
   "source": []
  },
  {
   "cell_type": "code",
   "execution_count": null,
   "id": "5532d340",
   "metadata": {},
   "outputs": [],
   "source": []
  },
  {
   "cell_type": "code",
   "execution_count": null,
   "id": "6bb6e4be",
   "metadata": {},
   "outputs": [],
   "source": []
  }
 ],
 "metadata": {
  "kernelspec": {
   "display_name": "R",
   "language": "R",
   "name": "ir"
  },
  "language_info": {
   "codemirror_mode": "r",
   "file_extension": ".r",
   "mimetype": "text/x-r-source",
   "name": "R",
   "pygments_lexer": "r",
   "version": "4.2.2"
  }
 },
 "nbformat": 4,
 "nbformat_minor": 5
}
